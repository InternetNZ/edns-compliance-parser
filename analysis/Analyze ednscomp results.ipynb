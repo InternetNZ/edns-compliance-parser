{
 "cells": [
  {
   "cell_type": "code",
   "execution_count": 501,
   "metadata": {
    "collapsed": true
   },
   "outputs": [],
   "source": [
    "import pandas as pd\n",
    "import numpy as np\n",
    "import re\n",
    "import itertools\n",
    "from yaml import safe_dump\n",
    "from matplotlib import pyplot as plt\n",
    "import seaborn as sns\n",
    "import json\n",
    "import ipaddress\n",
    "import os\n",
    "import glob\n",
    "import scipy.stats\n",
    "\n",
    "sns.set_style(\"whitegrid\")\n",
    "%matplotlib inline"
   ]
  },
  {
   "cell_type": "code",
   "execution_count": 502,
   "metadata": {
    "collapsed": true
   },
   "outputs": [],
   "source": [
    "# Configuration\n",
    "ZONE = 'ROOT'\n",
    "INPUT_DIR = '%s/edns_comp_result' % ZONE"
   ]
  },
  {
   "cell_type": "code",
   "execution_count": 503,
   "metadata": {
    "collapsed": true
   },
   "outputs": [],
   "source": [
    "def json_dump(data, file_pat, loc=None):\n",
    "    with open(file_pat.format(**loc), 'w') as f:\n",
    "        json.dump(data, f)"
   ]
  },
  {
   "cell_type": "code",
   "execution_count": 504,
   "metadata": {
    "collapsed": true
   },
   "outputs": [],
   "source": [
    "lookup_re = re.compile('((address|AAAA|A) lookup[s]? failed|no address records found|nameserver is a CNAME|A nxdomain)')"
   ]
  },
  {
   "cell_type": "code",
   "execution_count": 505,
   "metadata": {
    "collapsed": true
   },
   "outputs": [],
   "source": [
    "file_date_re = re.compile('(ednscompresult\\-)?(\\d{4}\\-\\d{2}\\-\\d{2})')"
   ]
  },
  {
   "cell_type": "code",
   "execution_count": 506,
   "metadata": {
    "collapsed": true
   },
   "outputs": [],
   "source": [
    "lookup_errors = []\n",
    "data = []\n",
    "file_dates = []\n",
    "for INPUT_FILE in glob.glob(\"%s/edns*\" % INPUT_DIR):\n",
    "    # Parse the input file to extract a date\n",
    "    file_match = file_date_re.search(INPUT_FILE)\n",
    "    if file_match is not None:\n",
    "        file_dates.append(file_match.group(2))\n",
    "    # The input file has a mix of lookup errors and the test results properly formatted\n",
    "    with open(INPUT_FILE, 'r') as f:\n",
    "        for l in f.readlines():\n",
    "            if lookup_re.search(l):\n",
    "                lookup_errors.append(l.strip(\"\\n\"))\n",
    "            else:\n",
    "                p = l.strip(\"\\n\").lower().split(' ')\n",
    "                try:\n",
    "                    entry = {'domain': p[0], 'address': p[1], 'server': p[2], 'src_file': INPUT_FILE}\n",
    "                    for i in range(3, len(p)):\n",
    "                        l, e = p[i].split('=')\n",
    "                        entry[l] = e\n",
    "                    data.append(entry)\n",
    "                except ValueError:\n",
    "                    print(\"Line with bad format? %s\" % l)\n",
    "                except IndexError:\n",
    "                    # print(\"Not enough fields in %s\" % l)\n",
    "                    lookup_errors.append(l.strip(\"\\n\"))"
   ]
  },
  {
   "cell_type": "code",
   "execution_count": 507,
   "metadata": {},
   "outputs": [
    {
     "name": "stderr",
     "output_type": "stream",
     "text": [
      "/opt/a/anaconda3/lib/python3.6/site-packages/scipy/stats/stats.py:245: RuntimeWarning: The input array could not be properly checked for nan values. nan values will be ignored.\n",
      "  \"values. nan values will be ignored.\", RuntimeWarning)\n"
     ]
    }
   ],
   "source": [
    "FILE_DATE = scipy.stats.mode(file_dates)[0][0]\n",
    "LOC_DATA = {'zone': ZONE, 'date': FILE_DATE}"
   ]
  },
  {
   "cell_type": "code",
   "execution_count": 508,
   "metadata": {},
   "outputs": [
    {
     "data": {
      "text/plain": [
       "{'date': '2018-10-08', 'zone': 'ROOT'}"
      ]
     },
     "execution_count": 508,
     "metadata": {},
     "output_type": "execute_result"
    }
   ],
   "source": [
    "LOC_DATA"
   ]
  },
  {
   "cell_type": "code",
   "execution_count": 509,
   "metadata": {
    "collapsed": true
   },
   "outputs": [],
   "source": [
    "# Save the lookup errors directly into JSON\n",
    "json_dump(lookup_errors, '{zone}/{zone}-lookup-errors-{date}.json', loc={'zone': ZONE, 'date': FILE_DATE})"
   ]
  },
  {
   "cell_type": "code",
   "execution_count": 510,
   "metadata": {
    "collapsed": true
   },
   "outputs": [],
   "source": [
    "d0 = pd.DataFrame(data)"
   ]
  },
  {
   "cell_type": "code",
   "execution_count": 511,
   "metadata": {},
   "outputs": [
    {
     "data": {
      "text/html": [
       "<div>\n",
       "<style>\n",
       "    .dataframe thead tr:only-child th {\n",
       "        text-align: right;\n",
       "    }\n",
       "\n",
       "    .dataframe thead th {\n",
       "        text-align: left;\n",
       "    }\n",
       "\n",
       "    .dataframe tbody tr th {\n",
       "        vertical-align: top;\n",
       "    }\n",
       "</style>\n",
       "<table border=\"1\" class=\"dataframe\">\n",
       "  <thead>\n",
       "    <tr style=\"text-align: right;\">\n",
       "      <th></th>\n",
       "      <th>aa</th>\n",
       "      <th>ad</th>\n",
       "      <th>address</th>\n",
       "      <th>cd</th>\n",
       "      <th>dns</th>\n",
       "      <th>do</th>\n",
       "      <th>docd</th>\n",
       "      <th>domain</th>\n",
       "      <th>edns</th>\n",
       "      <th>edns1</th>\n",
       "      <th>...</th>\n",
       "      <th>optlist</th>\n",
       "      <th>ra</th>\n",
       "      <th>rd</th>\n",
       "      <th>server</th>\n",
       "      <th>signed</th>\n",
       "      <th>src_file</th>\n",
       "      <th>tc</th>\n",
       "      <th>tcp</th>\n",
       "      <th>type666</th>\n",
       "      <th>zflag</th>\n",
       "    </tr>\n",
       "  </thead>\n",
       "  <tbody>\n",
       "    <tr>\n",
       "      <th>0</th>\n",
       "      <td>ok</td>\n",
       "      <td>ok</td>\n",
       "      <td>@198.41.0.4</td>\n",
       "      <td>ok</td>\n",
       "      <td>ok</td>\n",
       "      <td>ok</td>\n",
       "      <td>ok</td>\n",
       "      <td>.</td>\n",
       "      <td>ok</td>\n",
       "      <td>ok</td>\n",
       "      <td>...</td>\n",
       "      <td>ok</td>\n",
       "      <td>ok</td>\n",
       "      <td>ok</td>\n",
       "      <td>(a.root-servers.net.):</td>\n",
       "      <td>ok,yes</td>\n",
       "      <td>ROOT/edns_comp_result/ednscompresult-2018-10-08</td>\n",
       "      <td>ok</td>\n",
       "      <td>ok</td>\n",
       "      <td>ok</td>\n",
       "      <td>ok</td>\n",
       "    </tr>\n",
       "    <tr>\n",
       "      <th>1</th>\n",
       "      <td>ok</td>\n",
       "      <td>ok</td>\n",
       "      <td>@2001:503:ba3e::2:30</td>\n",
       "      <td>ok</td>\n",
       "      <td>ok</td>\n",
       "      <td>ok</td>\n",
       "      <td>ok</td>\n",
       "      <td>.</td>\n",
       "      <td>ok</td>\n",
       "      <td>ok</td>\n",
       "      <td>...</td>\n",
       "      <td>ok</td>\n",
       "      <td>ok</td>\n",
       "      <td>ok</td>\n",
       "      <td>(a.root-servers.net.):</td>\n",
       "      <td>ok,yes</td>\n",
       "      <td>ROOT/edns_comp_result/ednscompresult-2018-10-08</td>\n",
       "      <td>ok</td>\n",
       "      <td>ok</td>\n",
       "      <td>ok</td>\n",
       "      <td>ok</td>\n",
       "    </tr>\n",
       "    <tr>\n",
       "      <th>2</th>\n",
       "      <td>ok</td>\n",
       "      <td>ok</td>\n",
       "      <td>@199.9.14.201</td>\n",
       "      <td>ok</td>\n",
       "      <td>ok</td>\n",
       "      <td>ok</td>\n",
       "      <td>ok</td>\n",
       "      <td>.</td>\n",
       "      <td>ok</td>\n",
       "      <td>ok</td>\n",
       "      <td>...</td>\n",
       "      <td>ok,nsid</td>\n",
       "      <td>ok</td>\n",
       "      <td>ok</td>\n",
       "      <td>(b.root-servers.net.):</td>\n",
       "      <td>ok,yes</td>\n",
       "      <td>ROOT/edns_comp_result/ednscompresult-2018-10-08</td>\n",
       "      <td>ok</td>\n",
       "      <td>ok</td>\n",
       "      <td>ok</td>\n",
       "      <td>ok</td>\n",
       "    </tr>\n",
       "    <tr>\n",
       "      <th>3</th>\n",
       "      <td>ok</td>\n",
       "      <td>ok</td>\n",
       "      <td>@2001:500:200::b</td>\n",
       "      <td>ok</td>\n",
       "      <td>ok</td>\n",
       "      <td>ok</td>\n",
       "      <td>ok</td>\n",
       "      <td>.</td>\n",
       "      <td>ok</td>\n",
       "      <td>ok</td>\n",
       "      <td>...</td>\n",
       "      <td>ok,nsid</td>\n",
       "      <td>ok</td>\n",
       "      <td>ok</td>\n",
       "      <td>(b.root-servers.net.):</td>\n",
       "      <td>ok,yes</td>\n",
       "      <td>ROOT/edns_comp_result/ednscompresult-2018-10-08</td>\n",
       "      <td>ok</td>\n",
       "      <td>ok</td>\n",
       "      <td>ok</td>\n",
       "      <td>ok</td>\n",
       "    </tr>\n",
       "    <tr>\n",
       "      <th>4</th>\n",
       "      <td>ok</td>\n",
       "      <td>ok</td>\n",
       "      <td>@192.33.4.12</td>\n",
       "      <td>ok</td>\n",
       "      <td>ok</td>\n",
       "      <td>ok</td>\n",
       "      <td>ok</td>\n",
       "      <td>.</td>\n",
       "      <td>ok</td>\n",
       "      <td>ok</td>\n",
       "      <td>...</td>\n",
       "      <td>ok,nsid</td>\n",
       "      <td>ok</td>\n",
       "      <td>ok</td>\n",
       "      <td>(c.root-servers.net.):</td>\n",
       "      <td>ok,yes</td>\n",
       "      <td>ROOT/edns_comp_result/ednscompresult-2018-10-08</td>\n",
       "      <td>ok</td>\n",
       "      <td>ok</td>\n",
       "      <td>ok</td>\n",
       "      <td>ok</td>\n",
       "    </tr>\n",
       "  </tbody>\n",
       "</table>\n",
       "<p>5 rows × 36 columns</p>\n",
       "</div>"
      ],
      "text/plain": [
       "   aa  ad               address  cd dns  do docd domain edns edns1  ...   \\\n",
       "0  ok  ok           @198.41.0.4  ok  ok  ok   ok      .   ok    ok  ...    \n",
       "1  ok  ok  @2001:503:ba3e::2:30  ok  ok  ok   ok      .   ok    ok  ...    \n",
       "2  ok  ok         @199.9.14.201  ok  ok  ok   ok      .   ok    ok  ...    \n",
       "3  ok  ok      @2001:500:200::b  ok  ok  ok   ok      .   ok    ok  ...    \n",
       "4  ok  ok          @192.33.4.12  ok  ok  ok   ok      .   ok    ok  ...    \n",
       "\n",
       "   optlist  ra  rd                  server  signed  \\\n",
       "0       ok  ok  ok  (a.root-servers.net.):  ok,yes   \n",
       "1       ok  ok  ok  (a.root-servers.net.):  ok,yes   \n",
       "2  ok,nsid  ok  ok  (b.root-servers.net.):  ok,yes   \n",
       "3  ok,nsid  ok  ok  (b.root-servers.net.):  ok,yes   \n",
       "4  ok,nsid  ok  ok  (c.root-servers.net.):  ok,yes   \n",
       "\n",
       "                                          src_file  tc tcp type666 zflag  \n",
       "0  ROOT/edns_comp_result/ednscompresult-2018-10-08  ok  ok      ok    ok  \n",
       "1  ROOT/edns_comp_result/ednscompresult-2018-10-08  ok  ok      ok    ok  \n",
       "2  ROOT/edns_comp_result/ednscompresult-2018-10-08  ok  ok      ok    ok  \n",
       "3  ROOT/edns_comp_result/ednscompresult-2018-10-08  ok  ok      ok    ok  \n",
       "4  ROOT/edns_comp_result/ednscompresult-2018-10-08  ok  ok      ok    ok  \n",
       "\n",
       "[5 rows x 36 columns]"
      ]
     },
     "execution_count": 511,
     "metadata": {},
     "output_type": "execute_result"
    }
   ],
   "source": [
    "d0.head(5)"
   ]
  },
  {
   "cell_type": "code",
   "execution_count": 512,
   "metadata": {},
   "outputs": [
    {
     "name": "stderr",
     "output_type": "stream",
     "text": [
      "/opt/a/anaconda3/lib/python3.6/site-packages/scipy/stats/stats.py:245: RuntimeWarning: The input array could not be properly checked for nan values. nan values will be ignored.\n",
      "  \"values. nan values will be ignored.\", RuntimeWarning)\n"
     ]
    }
   ],
   "source": [
    "# This takes the multiple runs contained in the dataframe d0 and leave one entry per address\n",
    "# taking the most frequent (mode) result for each column\n",
    "d = d0.groupby(['address']).agg(lambda x: scipy.stats.mode(x)[0]).reset_index()"
   ]
  },
  {
   "cell_type": "code",
   "execution_count": 513,
   "metadata": {},
   "outputs": [
    {
     "data": {
      "text/html": [
       "<div>\n",
       "<style>\n",
       "    .dataframe thead tr:only-child th {\n",
       "        text-align: right;\n",
       "    }\n",
       "\n",
       "    .dataframe thead th {\n",
       "        text-align: left;\n",
       "    }\n",
       "\n",
       "    .dataframe tbody tr th {\n",
       "        vertical-align: top;\n",
       "    }\n",
       "</style>\n",
       "<table border=\"1\" class=\"dataframe\">\n",
       "  <thead>\n",
       "    <tr style=\"text-align: right;\">\n",
       "      <th></th>\n",
       "      <th>address</th>\n",
       "      <th>aa</th>\n",
       "      <th>ad</th>\n",
       "      <th>cd</th>\n",
       "      <th>dns</th>\n",
       "      <th>do</th>\n",
       "      <th>docd</th>\n",
       "      <th>domain</th>\n",
       "      <th>edns</th>\n",
       "      <th>edns1</th>\n",
       "      <th>...</th>\n",
       "      <th>optlist</th>\n",
       "      <th>ra</th>\n",
       "      <th>rd</th>\n",
       "      <th>server</th>\n",
       "      <th>signed</th>\n",
       "      <th>src_file</th>\n",
       "      <th>tc</th>\n",
       "      <th>tcp</th>\n",
       "      <th>type666</th>\n",
       "      <th>zflag</th>\n",
       "    </tr>\n",
       "  </thead>\n",
       "  <tbody>\n",
       "    <tr>\n",
       "      <th>0</th>\n",
       "      <td>@103.19.177.177</td>\n",
       "      <td>ok</td>\n",
       "      <td>ok</td>\n",
       "      <td>ok</td>\n",
       "      <td>ok</td>\n",
       "      <td>ok</td>\n",
       "      <td>ok</td>\n",
       "      <td>id.</td>\n",
       "      <td>ok</td>\n",
       "      <td>ok</td>\n",
       "      <td>...</td>\n",
       "      <td>ok</td>\n",
       "      <td>ok</td>\n",
       "      <td>ok</td>\n",
       "      <td>(e.dns.id.):</td>\n",
       "      <td>ok,yes</td>\n",
       "      <td>ROOT/edns_comp_result/ednscompresult-2018-10-08</td>\n",
       "      <td>ok</td>\n",
       "      <td>ok</td>\n",
       "      <td>ok</td>\n",
       "      <td>ok</td>\n",
       "    </tr>\n",
       "    <tr>\n",
       "      <th>1</th>\n",
       "      <td>@103.19.178.178</td>\n",
       "      <td>ok</td>\n",
       "      <td>ok</td>\n",
       "      <td>ok</td>\n",
       "      <td>ok</td>\n",
       "      <td>ok</td>\n",
       "      <td>nocd</td>\n",
       "      <td>id.</td>\n",
       "      <td>ok</td>\n",
       "      <td>ok</td>\n",
       "      <td>...</td>\n",
       "      <td>ok</td>\n",
       "      <td>ok</td>\n",
       "      <td>ok</td>\n",
       "      <td>(c.dns.id.):</td>\n",
       "      <td>ok,yes</td>\n",
       "      <td>ROOT/edns_comp_result/ednscompresult-2018-10-08</td>\n",
       "      <td>ok</td>\n",
       "      <td>ok</td>\n",
       "      <td>ok</td>\n",
       "      <td>ok</td>\n",
       "    </tr>\n",
       "    <tr>\n",
       "      <th>2</th>\n",
       "      <td>@103.19.179.179</td>\n",
       "      <td>ok</td>\n",
       "      <td>ok</td>\n",
       "      <td>ok</td>\n",
       "      <td>ok</td>\n",
       "      <td>ok</td>\n",
       "      <td>nocd</td>\n",
       "      <td>id.</td>\n",
       "      <td>ok</td>\n",
       "      <td>ok</td>\n",
       "      <td>...</td>\n",
       "      <td>ok</td>\n",
       "      <td>ok</td>\n",
       "      <td>ok</td>\n",
       "      <td>(b.dns.id.):</td>\n",
       "      <td>ok,yes</td>\n",
       "      <td>ROOT/edns_comp_result/ednscompresult-2018-10-08</td>\n",
       "      <td>ok</td>\n",
       "      <td>ok</td>\n",
       "      <td>ok</td>\n",
       "      <td>ok</td>\n",
       "    </tr>\n",
       "    <tr>\n",
       "      <th>3</th>\n",
       "      <td>@103.198.210.1</td>\n",
       "      <td>ok</td>\n",
       "      <td>ok</td>\n",
       "      <td>ok</td>\n",
       "      <td>ok</td>\n",
       "      <td>ok</td>\n",
       "      <td>ok</td>\n",
       "      <td>jprs.</td>\n",
       "      <td>ok</td>\n",
       "      <td>ok</td>\n",
       "      <td>...</td>\n",
       "      <td>ok,nsid</td>\n",
       "      <td>ok</td>\n",
       "      <td>ok</td>\n",
       "      <td>(tld4.nic.jprs.):</td>\n",
       "      <td>ok,yes</td>\n",
       "      <td>ROOT/edns_comp_result/ednscompresult-2018-10-08</td>\n",
       "      <td>ok</td>\n",
       "      <td>ok</td>\n",
       "      <td>ok</td>\n",
       "      <td>ok</td>\n",
       "    </tr>\n",
       "    <tr>\n",
       "      <th>4</th>\n",
       "      <td>@103.25.58.26</td>\n",
       "      <td>ok</td>\n",
       "      <td>ok</td>\n",
       "      <td>ok</td>\n",
       "      <td>ok</td>\n",
       "      <td>ok</td>\n",
       "      <td>ok</td>\n",
       "      <td>tg.</td>\n",
       "      <td>ok</td>\n",
       "      <td>ok</td>\n",
       "      <td>...</td>\n",
       "      <td>ok</td>\n",
       "      <td>ok</td>\n",
       "      <td>ok</td>\n",
       "      <td>(ns4.admin.net.):</td>\n",
       "      <td>ok</td>\n",
       "      <td>ROOT/edns_comp_result/ednscompresult-2018-10-08</td>\n",
       "      <td>ok</td>\n",
       "      <td>ok</td>\n",
       "      <td>ok</td>\n",
       "      <td>ok</td>\n",
       "    </tr>\n",
       "  </tbody>\n",
       "</table>\n",
       "<p>5 rows × 36 columns</p>\n",
       "</div>"
      ],
      "text/plain": [
       "           address  aa  ad  cd dns  do  docd domain edns edns1  ...   optlist  \\\n",
       "0  @103.19.177.177  ok  ok  ok  ok  ok    ok    id.   ok    ok  ...        ok   \n",
       "1  @103.19.178.178  ok  ok  ok  ok  ok  nocd    id.   ok    ok  ...        ok   \n",
       "2  @103.19.179.179  ok  ok  ok  ok  ok  nocd    id.   ok    ok  ...        ok   \n",
       "3   @103.198.210.1  ok  ok  ok  ok  ok    ok  jprs.   ok    ok  ...   ok,nsid   \n",
       "4    @103.25.58.26  ok  ok  ok  ok  ok    ok    tg.   ok    ok  ...        ok   \n",
       "\n",
       "   ra  rd             server  signed  \\\n",
       "0  ok  ok       (e.dns.id.):  ok,yes   \n",
       "1  ok  ok       (c.dns.id.):  ok,yes   \n",
       "2  ok  ok       (b.dns.id.):  ok,yes   \n",
       "3  ok  ok  (tld4.nic.jprs.):  ok,yes   \n",
       "4  ok  ok  (ns4.admin.net.):      ok   \n",
       "\n",
       "                                          src_file  tc tcp type666 zflag  \n",
       "0  ROOT/edns_comp_result/ednscompresult-2018-10-08  ok  ok      ok    ok  \n",
       "1  ROOT/edns_comp_result/ednscompresult-2018-10-08  ok  ok      ok    ok  \n",
       "2  ROOT/edns_comp_result/ednscompresult-2018-10-08  ok  ok      ok    ok  \n",
       "3  ROOT/edns_comp_result/ednscompresult-2018-10-08  ok  ok      ok    ok  \n",
       "4  ROOT/edns_comp_result/ednscompresult-2018-10-08  ok  ok      ok    ok  \n",
       "\n",
       "[5 rows x 36 columns]"
      ]
     },
     "execution_count": 513,
     "metadata": {},
     "output_type": "execute_result"
    }
   ],
   "source": [
    "d.head(5)"
   ]
  },
  {
   "cell_type": "code",
   "execution_count": 514,
   "metadata": {
    "collapsed": true
   },
   "outputs": [],
   "source": [
    "le_split = re.compile('(([a-z0-9\\-\\.]+) ([a-z0-9\\-\\.]+): (.*)|([a-z0-9\\-\\.]+) ([a-z0-9\\-\\.]+))$', re.IGNORECASE)\n",
    "def split_lookup_error(e):\n",
    "    m = le_split.match(e)\n",
    "    if m is None:\n",
    "        return None\n",
    "    elif m.group(2) is None:\n",
    "        return {'domain': m.group(5), 'server': m.group(6), 'error': None}\n",
    "    else:\n",
    "        return {'domain': m.group(2), 'server': m.group(3), 'error': m.group(4)}"
   ]
  },
  {
   "cell_type": "code",
   "execution_count": 515,
   "metadata": {
    "collapsed": true
   },
   "outputs": [],
   "source": [
    "# [split_lookup_error(e) for e in some_errors]"
   ]
  },
  {
   "cell_type": "code",
   "execution_count": 516,
   "metadata": {
    "collapsed": true
   },
   "outputs": [],
   "source": [
    "# [e for e in lookup_errors if split_lookup_error(e) is None]\n",
    "# le_df = pd.DataFrame([split_lookup_error(e) for e in lookup_errors])"
   ]
  },
  {
   "cell_type": "code",
   "execution_count": 517,
   "metadata": {
    "collapsed": true
   },
   "outputs": [],
   "source": [
    "# le_df.head(5)"
   ]
  },
  {
   "cell_type": "markdown",
   "metadata": {},
   "source": [
    "le_s = pd.DataFrame(le_df['error'].value_counts())\n",
    "le_s['Zone'] = ZONE\n",
    "le_s.to_json('%s-lookup-error-summary.json' % ZONE)"
   ]
  },
  {
   "cell_type": "markdown",
   "metadata": {},
   "source": [
    "le_s2 = le_df[['error', 'domain']].groupby(['error']).count().reset_index()\n",
    "le_s2['Zone'] = ZONE\n",
    "le_s2.to_json('%s-lookup-errors-per-domain.json' % ZONE)"
   ]
  },
  {
   "cell_type": "markdown",
   "metadata": {},
   "source": [
    "le_df['domain'].nunique()"
   ]
  },
  {
   "cell_type": "markdown",
   "metadata": {},
   "source": [
    "len(set(d['server'].unique()).union(set(le_df['server'].unique())))"
   ]
  },
  {
   "cell_type": "markdown",
   "metadata": {},
   "source": [
    "# Create a high level summary with number of unique servers, addresses and domains, to normalize future results and aggregations\n",
    "with open('%s-high-level-counts.json' % ZONE, 'w') as f:\n",
    "    json.dump({'Zone': ZONE,\n",
    "              'unique_dom': len(set(d['domain'].unique()).union(set(le_df['domain'].unique()))),\n",
    "              'unique_server': len(set(d['server'].unique()).union(set(le_df['server'].unique()))),\n",
    "              'unique_address': d['address'].nunique()},\n",
    "             f)"
   ]
  },
  {
   "cell_type": "code",
   "execution_count": 518,
   "metadata": {
    "collapsed": true
   },
   "outputs": [],
   "source": [
    "d['family'] = d['address'].apply(lambda x: \"v\" + str(ipaddress.ip_address(x[1:]).version))"
   ]
  },
  {
   "cell_type": "code",
   "execution_count": 519,
   "metadata": {
    "collapsed": true
   },
   "outputs": [],
   "source": [
    "n_dom = d['domain'].nunique()\n",
    "n_addr = d['address'].nunique()\n",
    "n_server = d['server'].nunique()\n",
    "uniq_v4_addr = d.query(\"family=='v4'\")['address'].nunique()\n",
    "uniq_v6_addr = d.query(\"family=='v6'\")['address'].nunique()"
   ]
  },
  {
   "cell_type": "code",
   "execution_count": 520,
   "metadata": {
    "collapsed": true
   },
   "outputs": [],
   "source": [
    "def summary_per_family(data=None, field=None):\n",
    "    g_fields = ['family', field]\n",
    "    fields = g_fields + ['address']\n",
    "    s = data[fields].groupby(g_fields).count().reset_index()\n",
    "    s.columns = ['family', 'error_type', 'count']\n",
    "    s['test'] = field\n",
    "    \n",
    "    return s"
   ]
  },
  {
   "cell_type": "code",
   "execution_count": 521,
   "metadata": {},
   "outputs": [
    {
     "data": {
      "text/plain": [
       "Index(['address', 'aa', 'ad', 'cd', 'dns', 'do', 'docd', 'domain', 'edns',\n",
       "       'edns1', 'edns1cookie', 'edns1do', 'edns1expire', 'edns1nsid',\n",
       "       'edns1opt', 'edns1subnet', 'edns@512', 'ednscookie', 'ednsexpire',\n",
       "       'ednsflags', 'ednsnsid', 'ednsopt', 'ednssubnet', 'ednstcp', 'opcode',\n",
       "       'opcodeflg', 'optlist', 'ra', 'rd', 'server', 'signed', 'src_file',\n",
       "       'tc', 'tcp', 'type666', 'zflag', 'family'],\n",
       "      dtype='object')"
      ]
     },
     "execution_count": 521,
     "metadata": {},
     "output_type": "execute_result"
    }
   ],
   "source": [
    "d.columns"
   ]
  },
  {
   "cell_type": "code",
   "execution_count": 522,
   "metadata": {
    "collapsed": true
   },
   "outputs": [],
   "source": [
    "high_summary = pd.concat([summary_per_family(data=d, field=f) for f in ['dns', 'edns', 'do', 'edns1', 'edns1opt', 'edns@512', 'ednsflags', 'ednsopt', 'ednstcp', 'optlist']]).reset_index()"
   ]
  },
  {
   "cell_type": "code",
   "execution_count": 523,
   "metadata": {
    "collapsed": true
   },
   "outputs": [],
   "source": [
    "high_summary.to_json('{zone}/{zone}-high-level-summary-{date}.json'.format(**LOC_DATA))"
   ]
  },
  {
   "cell_type": "code",
   "execution_count": 524,
   "metadata": {
    "collapsed": true
   },
   "outputs": [],
   "source": [
    "def explode_test(r, **kwargs):\n",
    "    # This is a dataframe row, it should have address, domain, server and one extra field to split\n",
    "    f = [a for a in r.keys() if a not in ['address', 'domain', 'server']][0]\n",
    "    return [dict(list(r.items()) + [(f, v)]) for v in r[f].split(',')]"
   ]
  },
  {
   "cell_type": "code",
   "execution_count": 525,
   "metadata": {
    "collapsed": true
   },
   "outputs": [],
   "source": [
    "def old_summary_df(data=None, field=None):\n",
    "    return pd.DataFrame([a for a in itertools.chain.from_iterable(data[['address', 'server', 'domain', field]].apply(explode_test, axis=1))])"
   ]
  },
  {
   "cell_type": "code",
   "execution_count": 526,
   "metadata": {
    "collapsed": true
   },
   "outputs": [],
   "source": [
    "def summary_df(data=None, field=None):\n",
    "    row_list = []\n",
    "    for index, row in data.iterrows():\n",
    "        for vals in row[field].split(','):\n",
    "            new_row = dict([(k, v) for k, v in row.items() if k in ['address', 'domain', 'server']])\n",
    "            new_row[field] = vals\n",
    "            row_list.append(new_row)\n",
    "    \n",
    "    return pd.DataFrame(row_list)"
   ]
  },
  {
   "cell_type": "markdown",
   "metadata": {},
   "source": [
    "### Section 1: General DNS statistics"
   ]
  },
  {
   "cell_type": "code",
   "execution_count": 527,
   "metadata": {
    "collapsed": true
   },
   "outputs": [],
   "source": [
    "# Summary of errors for basic DNS test\n",
    "s_dns = summary_df(data=d, field='dns')"
   ]
  },
  {
   "cell_type": "code",
   "execution_count": 528,
   "metadata": {},
   "outputs": [
    {
     "data": {
      "text/html": [
       "<div>\n",
       "<style>\n",
       "    .dataframe thead tr:only-child th {\n",
       "        text-align: right;\n",
       "    }\n",
       "\n",
       "    .dataframe thead th {\n",
       "        text-align: left;\n",
       "    }\n",
       "\n",
       "    .dataframe tbody tr th {\n",
       "        vertical-align: top;\n",
       "    }\n",
       "</style>\n",
       "<table border=\"1\" class=\"dataframe\">\n",
       "  <thead>\n",
       "    <tr style=\"text-align: right;\">\n",
       "      <th></th>\n",
       "      <th>error_type</th>\n",
       "      <th>perc</th>\n",
       "      <th>domain</th>\n",
       "      <th>test</th>\n",
       "    </tr>\n",
       "  </thead>\n",
       "  <tbody>\n",
       "    <tr>\n",
       "      <th>1</th>\n",
       "      <td>ok</td>\n",
       "      <td>99.134449</td>\n",
       "      <td>6872</td>\n",
       "      <td>dns</td>\n",
       "    </tr>\n",
       "    <tr>\n",
       "      <th>2</th>\n",
       "      <td>timeout</td>\n",
       "      <td>0.721293</td>\n",
       "      <td>50</td>\n",
       "      <td>dns</td>\n",
       "    </tr>\n",
       "    <tr>\n",
       "      <th>0</th>\n",
       "      <td>Other</td>\n",
       "      <td>0.144259</td>\n",
       "      <td>10</td>\n",
       "      <td>dns</td>\n",
       "    </tr>\n",
       "  </tbody>\n",
       "</table>\n",
       "</div>"
      ],
      "text/plain": [
       "  error_type       perc  domain test\n",
       "1         ok  99.134449    6872  dns\n",
       "2    timeout   0.721293      50  dns\n",
       "0      Other   0.144259      10  dns"
      ]
     },
     "execution_count": 528,
     "metadata": {},
     "output_type": "execute_result"
    }
   ],
   "source": [
    "s1 = s_dns.groupby(['dns']).count().reset_index()\n",
    "s1['perc'] = 100* (s1['domain'] / s1['domain'].sum())\n",
    "s1['error_type'] = s1.apply(lambda r: 'Other' if r['perc'] < 0.1 else r['dns'], axis=1)\n",
    "s1b = s1[['error_type', 'perc', 'domain']].groupby(['error_type']).sum().reset_index().sort_values(by='perc', ascending=False)\n",
    "s1b['test'] = 'dns'\n",
    "s1b"
   ]
  },
  {
   "cell_type": "code",
   "execution_count": 529,
   "metadata": {
    "collapsed": true
   },
   "outputs": [],
   "source": [
    "s1b.to_json('{zone}/{zone}-domain-test-results-{date}.json'.format(**LOC_DATA))"
   ]
  },
  {
   "cell_type": "code",
   "execution_count": 530,
   "metadata": {},
   "outputs": [
    {
     "data": {
      "image/png": "[encoded data removed]",
      "text/plain": [
       "<matplotlib.figure.Figure at 0x7fd50f0dc5c0>"
      ]
     },
     "metadata": {},
     "output_type": "display_data"
    }
   ],
   "source": [
    "plt.figure(figsize=(8,6))\n",
    "ax = sns.barplot(data=s1b, x='perc', y='error_type')\n",
    "ax.set(xlim=[0, 100], title='DNS tests by result -- %s' % ZONE, ylabel='', xlabel='Percentage')\n",
    "plt.savefig('{zone}/{zone}-basic-DNS-test-{date}.png'.format(**LOC_DATA))"
   ]
  },
  {
   "cell_type": "code",
   "execution_count": 531,
   "metadata": {},
   "outputs": [
    {
     "data": {
      "text/html": [
       "<div>\n",
       "<style>\n",
       "    .dataframe thead tr:only-child th {\n",
       "        text-align: right;\n",
       "    }\n",
       "\n",
       "    .dataframe thead th {\n",
       "        text-align: left;\n",
       "    }\n",
       "\n",
       "    .dataframe tbody tr th {\n",
       "        vertical-align: top;\n",
       "    }\n",
       "</style>\n",
       "<table border=\"1\" class=\"dataframe\">\n",
       "  <thead>\n",
       "    <tr style=\"text-align: right;\">\n",
       "      <th></th>\n",
       "      <th>dns</th>\n",
       "      <th>address</th>\n",
       "      <th>domain</th>\n",
       "      <th>server</th>\n",
       "      <th>perc</th>\n",
       "      <th>error_type</th>\n",
       "    </tr>\n",
       "  </thead>\n",
       "  <tbody>\n",
       "    <tr>\n",
       "      <th>0</th>\n",
       "      <td>ok</td>\n",
       "      <td>6872</td>\n",
       "      <td>6872</td>\n",
       "      <td>6872</td>\n",
       "      <td>99.134449</td>\n",
       "      <td>ok</td>\n",
       "    </tr>\n",
       "    <tr>\n",
       "      <th>1</th>\n",
       "      <td>refused</td>\n",
       "      <td>5</td>\n",
       "      <td>5</td>\n",
       "      <td>5</td>\n",
       "      <td>0.072129</td>\n",
       "      <td>Other</td>\n",
       "    </tr>\n",
       "  </tbody>\n",
       "</table>\n",
       "</div>"
      ],
      "text/plain": [
       "       dns  address  domain  server       perc error_type\n",
       "0       ok     6872    6872    6872  99.134449         ok\n",
       "1  refused        5       5       5   0.072129      Other"
      ]
     },
     "execution_count": 531,
     "metadata": {},
     "output_type": "execute_result"
    }
   ],
   "source": [
    "s1.head(2)"
   ]
  },
  {
   "cell_type": "code",
   "execution_count": 532,
   "metadata": {},
   "outputs": [
    {
     "data": {
      "text/html": [
       "<div>\n",
       "<style>\n",
       "    .dataframe thead tr:only-child th {\n",
       "        text-align: right;\n",
       "    }\n",
       "\n",
       "    .dataframe thead th {\n",
       "        text-align: left;\n",
       "    }\n",
       "\n",
       "    .dataframe tbody tr th {\n",
       "        vertical-align: top;\n",
       "    }\n",
       "</style>\n",
       "<table border=\"1\" class=\"dataframe\">\n",
       "  <thead>\n",
       "    <tr style=\"text-align: right;\">\n",
       "      <th></th>\n",
       "      <th>address</th>\n",
       "      <th>dns</th>\n",
       "      <th>domain</th>\n",
       "      <th>server</th>\n",
       "    </tr>\n",
       "  </thead>\n",
       "  <tbody>\n",
       "    <tr>\n",
       "      <th>0</th>\n",
       "      <td>@103.19.177.177</td>\n",
       "      <td>ok</td>\n",
       "      <td>id.</td>\n",
       "      <td>(e.dns.id.):</td>\n",
       "    </tr>\n",
       "    <tr>\n",
       "      <th>1</th>\n",
       "      <td>@103.19.178.178</td>\n",
       "      <td>ok</td>\n",
       "      <td>id.</td>\n",
       "      <td>(c.dns.id.):</td>\n",
       "    </tr>\n",
       "    <tr>\n",
       "      <th>2</th>\n",
       "      <td>@103.19.179.179</td>\n",
       "      <td>ok</td>\n",
       "      <td>id.</td>\n",
       "      <td>(b.dns.id.):</td>\n",
       "    </tr>\n",
       "    <tr>\n",
       "      <th>3</th>\n",
       "      <td>@103.198.210.1</td>\n",
       "      <td>ok</td>\n",
       "      <td>jprs.</td>\n",
       "      <td>(tld4.nic.jprs.):</td>\n",
       "    </tr>\n",
       "    <tr>\n",
       "      <th>4</th>\n",
       "      <td>@103.25.58.26</td>\n",
       "      <td>ok</td>\n",
       "      <td>tg.</td>\n",
       "      <td>(ns4.admin.net.):</td>\n",
       "    </tr>\n",
       "  </tbody>\n",
       "</table>\n",
       "</div>"
      ],
      "text/plain": [
       "           address dns domain             server\n",
       "0  @103.19.177.177  ok    id.       (e.dns.id.):\n",
       "1  @103.19.178.178  ok    id.       (c.dns.id.):\n",
       "2  @103.19.179.179  ok    id.       (b.dns.id.):\n",
       "3   @103.198.210.1  ok  jprs.  (tld4.nic.jprs.):\n",
       "4    @103.25.58.26  ok    tg.  (ns4.admin.net.):"
      ]
     },
     "execution_count": 532,
     "metadata": {},
     "output_type": "execute_result"
    }
   ],
   "source": [
    "s_dns.head(5)"
   ]
  },
  {
   "cell_type": "code",
   "execution_count": 533,
   "metadata": {
    "collapsed": true
   },
   "outputs": [],
   "source": [
    "t_server_dns = s_dns[['dns', 'server', 'domain']].groupby(['server', 'dns']).count().reset_index()\n",
    "# .pivot_table(index='server', columns='dns', values='domain', fill_value=0)"
   ]
  },
  {
   "cell_type": "code",
   "execution_count": 534,
   "metadata": {
    "collapsed": true
   },
   "outputs": [],
   "source": [
    "t_server_dns['frac'] = t_server_dns['domain'] / t_server_dns.groupby('server')['domain'].transform('sum')"
   ]
  },
  {
   "cell_type": "code",
   "execution_count": 535,
   "metadata": {},
   "outputs": [
    {
     "data": {
      "text/html": [
       "<div>\n",
       "<style>\n",
       "    .dataframe thead tr:only-child th {\n",
       "        text-align: right;\n",
       "    }\n",
       "\n",
       "    .dataframe thead th {\n",
       "        text-align: left;\n",
       "    }\n",
       "\n",
       "    .dataframe tbody tr th {\n",
       "        vertical-align: top;\n",
       "    }\n",
       "</style>\n",
       "<table border=\"1\" class=\"dataframe\">\n",
       "  <thead>\n",
       "    <tr style=\"text-align: right;\">\n",
       "      <th></th>\n",
       "      <th>server</th>\n",
       "      <th>dns</th>\n",
       "      <th>domain</th>\n",
       "      <th>frac</th>\n",
       "    </tr>\n",
       "  </thead>\n",
       "  <tbody>\n",
       "    <tr>\n",
       "      <th>0</th>\n",
       "      <td>(1.ns.ph.):</td>\n",
       "      <td>ok</td>\n",
       "      <td>2</td>\n",
       "      <td>1.0</td>\n",
       "    </tr>\n",
       "    <tr>\n",
       "      <th>1</th>\n",
       "      <td>(a-dns.pl.):</td>\n",
       "      <td>ok</td>\n",
       "      <td>2</td>\n",
       "      <td>1.0</td>\n",
       "    </tr>\n",
       "  </tbody>\n",
       "</table>\n",
       "</div>"
      ],
      "text/plain": [
       "         server dns  domain  frac\n",
       "0   (1.ns.ph.):  ok       2   1.0\n",
       "1  (a-dns.pl.):  ok       2   1.0"
      ]
     },
     "execution_count": 535,
     "metadata": {},
     "output_type": "execute_result"
    }
   ],
   "source": [
    "t_server_dns.head(2)"
   ]
  },
  {
   "cell_type": "code",
   "execution_count": 536,
   "metadata": {
    "collapsed": true
   },
   "outputs": [],
   "source": [
    "frac_sum = t_server_dns['frac'].sum()"
   ]
  },
  {
   "cell_type": "code",
   "execution_count": 537,
   "metadata": {
    "collapsed": true
   },
   "outputs": [],
   "source": [
    "s_server_dns = (100 * (t_server_dns[['dns', 'frac']].groupby(['dns']).sum() / frac_sum)).reset_index().sort_values(by='frac', ascending=False)"
   ]
  },
  {
   "cell_type": "code",
   "execution_count": 538,
   "metadata": {},
   "outputs": [
    {
     "data": {
      "image/png": "[encoded data removed]",
      "text/plain": [
       "<matplotlib.figure.Figure at 0x7fd528702e48>"
      ]
     },
     "metadata": {},
     "output_type": "display_data"
    }
   ],
   "source": [
    "# Plot fraction of servers affected by each error at the DNS level\n",
    "plt.figure(figsize=(8,6))\n",
    "ax = sns.barplot(data=s_server_dns, x='frac', y='dns')\n",
    "ax.set(xlim=[0, 100], title='Server result by DNS test -- %s' % ZONE, ylabel='', xlabel='Percentage')\n",
    "plt.savefig('%s-basic-DNS-test-per-server.png' % ZONE)\n",
    "s_server_dns.to_json('{zone}/{zone}-basic-DNS-test-per-server-{date}.json'.format(**LOC_DATA))"
   ]
  },
  {
   "cell_type": "code",
   "execution_count": null,
   "metadata": {
    "collapsed": true
   },
   "outputs": [],
   "source": []
  },
  {
   "cell_type": "markdown",
   "metadata": {
    "collapsed": true
   },
   "source": [
    "### To analyze the tests properly, we need to describe them based on their dependencies. For example, if the dns test fails, the edns test is expected to fail."
   ]
  },
  {
   "cell_type": "markdown",
   "metadata": {},
   "source": [
    "![title](EDNS test decision tree.png)"
   ]
  },
  {
   "cell_type": "code",
   "execution_count": 539,
   "metadata": {
    "collapsed": true
   },
   "outputs": [],
   "source": [
    "def multiple_field_summary(data=None, fields=[]):\n",
    "    slist = []\n",
    "    for c in fields:\n",
    "        if c in ['address', 'server', 'domain']:\n",
    "            continue\n",
    "        if c in ['dns'] and 'dns' not in fields:\n",
    "            continue\n",
    "        # temporary dataframe with the specific output\n",
    "        tmp_s = summary_df(data=data, field=c)\n",
    "        print(\"Column = %s\" % c)\n",
    "        sg = tmp_s.groupby([c]).count().reset_index()\n",
    "        sg['perc'] = 100* (sg['domain'] / sg['domain'].sum())\n",
    "        sg['error_type'] = sg.apply(lambda r: 'Other' if r['perc'] < 0.1 else r[c], axis=1)\n",
    "        sg2 = sg[['error_type', 'perc', 'domain']].groupby(['error_type']).sum().reset_index().sort_values(by='perc', ascending=False)\n",
    "        sg2['test'] = c\n",
    "        slist.append(sg2)\n",
    "    \n",
    "    return pd.concat(slist)"
   ]
  },
  {
   "cell_type": "code",
   "execution_count": 540,
   "metadata": {
    "collapsed": true
   },
   "outputs": [],
   "source": [
    "def plot_comparison(data=None, title=None, file_prefix=None, loc=None):\n",
    "    sns.set(style='whitegrid', font_scale=1.6)\n",
    "    plt.figure(figsize=(16,9))\n",
    "    ax = sns.barplot(data=data, x='perc', y='error_type', hue='test', ci=None)\n",
    "    ax.set(xlim=[0, 100], title=title % loc['zone'], ylabel='', xlabel='Percentage')\n",
    "    plt.legend(loc='lower right')\n",
    "    plt.savefig((file_prefix.format(**loc)) + \".png\")\n",
    "    data['zone'] = loc['zone']\n",
    "    data.to_json((file_prefix.format(**loc)) + \".json\", orient='records')"
   ]
  },
  {
   "cell_type": "markdown",
   "metadata": {},
   "source": [
    "### Compare DNS results against plain EDNS results"
   ]
  },
  {
   "cell_type": "code",
   "execution_count": 541,
   "metadata": {},
   "outputs": [
    {
     "name": "stdout",
     "output_type": "stream",
     "text": [
      "Column = dns\n",
      "Column = edns\n"
     ]
    }
   ],
   "source": [
    "s_dns_edns = multiple_field_summary(data=d[d['dns']=='ok'], fields=['dns', 'edns'])"
   ]
  },
  {
   "cell_type": "code",
   "execution_count": 542,
   "metadata": {},
   "outputs": [
    {
     "data": {
      "text/html": [
       "<div>\n",
       "<style>\n",
       "    .dataframe thead tr:only-child th {\n",
       "        text-align: right;\n",
       "    }\n",
       "\n",
       "    .dataframe thead th {\n",
       "        text-align: left;\n",
       "    }\n",
       "\n",
       "    .dataframe tbody tr th {\n",
       "        vertical-align: top;\n",
       "    }\n",
       "</style>\n",
       "<table border=\"1\" class=\"dataframe\">\n",
       "  <thead>\n",
       "    <tr style=\"text-align: right;\">\n",
       "      <th></th>\n",
       "      <th>error_type</th>\n",
       "      <th>perc</th>\n",
       "      <th>domain</th>\n",
       "      <th>test</th>\n",
       "    </tr>\n",
       "  </thead>\n",
       "  <tbody>\n",
       "    <tr>\n",
       "      <th>0</th>\n",
       "      <td>ok</td>\n",
       "      <td>100.000000</td>\n",
       "      <td>6872</td>\n",
       "      <td>dns</td>\n",
       "    </tr>\n",
       "    <tr>\n",
       "      <th>1</th>\n",
       "      <td>ok</td>\n",
       "      <td>99.883586</td>\n",
       "      <td>6864</td>\n",
       "      <td>edns</td>\n",
       "    </tr>\n",
       "    <tr>\n",
       "      <th>0</th>\n",
       "      <td>Other</td>\n",
       "      <td>0.116414</td>\n",
       "      <td>8</td>\n",
       "      <td>edns</td>\n",
       "    </tr>\n",
       "  </tbody>\n",
       "</table>\n",
       "</div>"
      ],
      "text/plain": [
       "  error_type        perc  domain  test\n",
       "0         ok  100.000000    6872   dns\n",
       "1         ok   99.883586    6864  edns\n",
       "0      Other    0.116414       8  edns"
      ]
     },
     "execution_count": 542,
     "metadata": {},
     "output_type": "execute_result"
    }
   ],
   "source": [
    "s_dns_edns"
   ]
  },
  {
   "cell_type": "code",
   "execution_count": 543,
   "metadata": {},
   "outputs": [
    {
     "data": {
      "image/png": "[encoded data removed]",
      "text/plain": [
       "<matplotlib.figure.Figure at 0x7fd50e594b70>"
      ]
     },
     "metadata": {},
     "output_type": "display_data"
    }
   ],
   "source": [
    "plot_comparison(data=s_dns_edns, title='DNS vs EDNS -- %s', file_prefix='{zone}/{zone}-DNS-EDNS-{date}', loc=LOC_DATA)"
   ]
  },
  {
   "cell_type": "markdown",
   "metadata": {},
   "source": [
    "### Error summary by test and by server where dns=ok and where the test is 'edns' or 'edns1' "
   ]
  },
  {
   "cell_type": "code",
   "execution_count": 544,
   "metadata": {},
   "outputs": [
    {
     "name": "stdout",
     "output_type": "stream",
     "text": [
      "Column = edns\n",
      "Column = edns1\n"
     ]
    }
   ],
   "source": [
    "s_edns_edns1 = multiple_field_summary(data=d[d['dns']=='ok'], fields=['edns', 'edns1'])"
   ]
  },
  {
   "cell_type": "code",
   "execution_count": 545,
   "metadata": {},
   "outputs": [
    {
     "data": {
      "image/png": "[encoded data removed]",
      "text/plain": [
       "<matplotlib.figure.Figure at 0x7fd52876de80>"
      ]
     },
     "metadata": {},
     "output_type": "display_data"
    }
   ],
   "source": [
    "plot_comparison(data=s_edns_edns1, title='EDNS vs EDNS1 -- %s', file_prefix='{zone}/{zone}-EDNS-EDNS1-{date}', loc=LOC_DATA)"
   ]
  },
  {
   "cell_type": "code",
   "execution_count": 546,
   "metadata": {},
   "outputs": [
    {
     "name": "stdout",
     "output_type": "stream",
     "text": [
      "Column = edns\n",
      "Column = ednsopt\n"
     ]
    }
   ],
   "source": [
    "s_edns_ednsopt = multiple_field_summary(data=d[d['dns']=='ok'], fields=['edns', 'ednsopt'])"
   ]
  },
  {
   "cell_type": "code",
   "execution_count": 547,
   "metadata": {},
   "outputs": [
    {
     "data": {
      "image/png": "[encoded data removed]",
      "text/plain": [
       "<matplotlib.figure.Figure at 0x7fd52876da58>"
      ]
     },
     "metadata": {},
     "output_type": "display_data"
    }
   ],
   "source": [
    "plot_comparison(data=s_edns_ednsopt, title='EDNS vs EDNSOPT -- %s', file_prefix='{zone}/{zone}-EDNS-EDNSOPT-{date}',\n",
    "                loc=LOC_DATA)"
   ]
  },
  {
   "cell_type": "code",
   "execution_count": 548,
   "metadata": {},
   "outputs": [
    {
     "data": {
      "text/html": [
       "<div>\n",
       "<style>\n",
       "    .dataframe thead tr:only-child th {\n",
       "        text-align: right;\n",
       "    }\n",
       "\n",
       "    .dataframe thead th {\n",
       "        text-align: left;\n",
       "    }\n",
       "\n",
       "    .dataframe tbody tr th {\n",
       "        vertical-align: top;\n",
       "    }\n",
       "</style>\n",
       "<table border=\"1\" class=\"dataframe\">\n",
       "  <thead>\n",
       "    <tr style=\"text-align: right;\">\n",
       "      <th></th>\n",
       "      <th>error_type</th>\n",
       "      <th>perc</th>\n",
       "      <th>domain</th>\n",
       "      <th>test</th>\n",
       "      <th>zone</th>\n",
       "    </tr>\n",
       "  </thead>\n",
       "  <tbody>\n",
       "    <tr>\n",
       "      <th>1</th>\n",
       "      <td>ok</td>\n",
       "      <td>99.883586</td>\n",
       "      <td>6864</td>\n",
       "      <td>edns</td>\n",
       "      <td>ROOT</td>\n",
       "    </tr>\n",
       "    <tr>\n",
       "      <th>0</th>\n",
       "      <td>Other</td>\n",
       "      <td>0.116414</td>\n",
       "      <td>8</td>\n",
       "      <td>edns</td>\n",
       "      <td>ROOT</td>\n",
       "    </tr>\n",
       "    <tr>\n",
       "      <th>1</th>\n",
       "      <td>ok</td>\n",
       "      <td>99.898137</td>\n",
       "      <td>6865</td>\n",
       "      <td>ednsopt</td>\n",
       "      <td>ROOT</td>\n",
       "    </tr>\n",
       "    <tr>\n",
       "      <th>0</th>\n",
       "      <td>Other</td>\n",
       "      <td>0.101863</td>\n",
       "      <td>7</td>\n",
       "      <td>ednsopt</td>\n",
       "      <td>ROOT</td>\n",
       "    </tr>\n",
       "  </tbody>\n",
       "</table>\n",
       "</div>"
      ],
      "text/plain": [
       "  error_type       perc  domain     test  zone\n",
       "1         ok  99.883586    6864     edns  ROOT\n",
       "0      Other   0.116414       8     edns  ROOT\n",
       "1         ok  99.898137    6865  ednsopt  ROOT\n",
       "0      Other   0.101863       7  ednsopt  ROOT"
      ]
     },
     "execution_count": 548,
     "metadata": {},
     "output_type": "execute_result"
    }
   ],
   "source": [
    "s_edns_ednsopt"
   ]
  },
  {
   "cell_type": "markdown",
   "metadata": {},
   "source": [
    "### Compare results of 'edns1' and 'edns1opt' tests when dns=ok and edns1=ok"
   ]
  },
  {
   "cell_type": "code",
   "execution_count": 549,
   "metadata": {},
   "outputs": [
    {
     "name": "stdout",
     "output_type": "stream",
     "text": [
      "Column = edns1\n",
      "Column = edns1opt\n"
     ]
    }
   ],
   "source": [
    "s_edns1opt = multiple_field_summary(data=d[(d['dns']=='ok') & (d['edns1']=='ok')], fields=['edns1', 'edns1opt'])"
   ]
  },
  {
   "cell_type": "code",
   "execution_count": 550,
   "metadata": {},
   "outputs": [
    {
     "data": {
      "image/png": "[encoded data removed]",
      "text/plain": [
       "<matplotlib.figure.Figure at 0x7fd529cb1b38>"
      ]
     },
     "metadata": {},
     "output_type": "display_data"
    }
   ],
   "source": [
    "plot_comparison(data=s_edns1opt, title='EDNS1 vs EDNS1OPT -- %s', file_prefix='{zone}/{zone}-EDNS1-EDNS1OPT-{date}',\n",
    "                loc=LOC_DATA)"
   ]
  },
  {
   "cell_type": "markdown",
   "metadata": {},
   "source": [
    "### Compare results of 'do' and 'edns' "
   ]
  },
  {
   "cell_type": "code",
   "execution_count": 551,
   "metadata": {},
   "outputs": [
    {
     "name": "stdout",
     "output_type": "stream",
     "text": [
      "Column = edns\n",
      "Column = do\n"
     ]
    }
   ],
   "source": [
    "s_do_edns = multiple_field_summary(data=d[(d['dns']=='ok') & (d['edns']=='ok')], fields=['edns', 'do'])"
   ]
  },
  {
   "cell_type": "code",
   "execution_count": 552,
   "metadata": {},
   "outputs": [
    {
     "data": {
      "text/html": [
       "<div>\n",
       "<style>\n",
       "    .dataframe thead tr:only-child th {\n",
       "        text-align: right;\n",
       "    }\n",
       "\n",
       "    .dataframe thead th {\n",
       "        text-align: left;\n",
       "    }\n",
       "\n",
       "    .dataframe tbody tr th {\n",
       "        vertical-align: top;\n",
       "    }\n",
       "</style>\n",
       "<table border=\"1\" class=\"dataframe\">\n",
       "  <thead>\n",
       "    <tr style=\"text-align: right;\">\n",
       "      <th></th>\n",
       "      <th>error_type</th>\n",
       "      <th>perc</th>\n",
       "      <th>domain</th>\n",
       "      <th>test</th>\n",
       "    </tr>\n",
       "  </thead>\n",
       "  <tbody>\n",
       "    <tr>\n",
       "      <th>0</th>\n",
       "      <td>ok</td>\n",
       "      <td>100.000000</td>\n",
       "      <td>6864</td>\n",
       "      <td>edns</td>\n",
       "    </tr>\n",
       "    <tr>\n",
       "      <th>1</th>\n",
       "      <td>ok</td>\n",
       "      <td>99.927156</td>\n",
       "      <td>6859</td>\n",
       "      <td>do</td>\n",
       "    </tr>\n",
       "    <tr>\n",
       "      <th>0</th>\n",
       "      <td>Other</td>\n",
       "      <td>0.072844</td>\n",
       "      <td>5</td>\n",
       "      <td>do</td>\n",
       "    </tr>\n",
       "  </tbody>\n",
       "</table>\n",
       "</div>"
      ],
      "text/plain": [
       "  error_type        perc  domain  test\n",
       "0         ok  100.000000    6864  edns\n",
       "1         ok   99.927156    6859    do\n",
       "0      Other    0.072844       5    do"
      ]
     },
     "execution_count": 552,
     "metadata": {},
     "output_type": "execute_result"
    }
   ],
   "source": [
    "s_do_edns"
   ]
  },
  {
   "cell_type": "code",
   "execution_count": 553,
   "metadata": {},
   "outputs": [
    {
     "data": {
      "image/png": "[encoded data removed]",
      "text/plain": [
       "<matplotlib.figure.Figure at 0x7fd5286faf98>"
      ]
     },
     "metadata": {},
     "output_type": "display_data"
    }
   ],
   "source": [
    "plot_comparison(data=s_do_edns, title='DO vs EDNS -- %s', file_prefix='{zone}/{zone}-DO-EDNS-{date}', loc=LOC_DATA)"
   ]
  },
  {
   "cell_type": "markdown",
   "metadata": {},
   "source": [
    "### Compare results of 'do', 'ednstcp', 'edns@512' when edns=ok and do=ok"
   ]
  },
  {
   "cell_type": "code",
   "execution_count": 554,
   "metadata": {},
   "outputs": [
    {
     "name": "stdout",
     "output_type": "stream",
     "text": [
      "Column = do\n",
      "Column = ednstcp\n",
      "Column = edns@512\n"
     ]
    }
   ],
   "source": [
    "s_ednstcp = multiple_field_summary(data=d[(d['dns']=='ok') & (d['edns']=='ok') & (d['do']=='ok')],\n",
    "                                   fields=['do', 'ednstcp', 'edns@512'])"
   ]
  },
  {
   "cell_type": "code",
   "execution_count": 555,
   "metadata": {},
   "outputs": [
    {
     "data": {
      "image/png": "[encoded data removed]",
      "text/plain": [
       "<matplotlib.figure.Figure at 0x7fd52a939470>"
      ]
     },
     "metadata": {},
     "output_type": "display_data"
    }
   ],
   "source": [
    "plot_comparison(data=s_ednstcp, title='DO: ednstcp vs edns@512 -- %s',\n",
    "                file_prefix='{zone}/{zone}-do-ednstcp-edns512-{date}', loc=LOC_DATA)"
   ]
  },
  {
   "cell_type": "markdown",
   "metadata": {},
   "source": [
    "### Compare 'edns' with 'ednsflags' when edns=ok"
   ]
  },
  {
   "cell_type": "code",
   "execution_count": 556,
   "metadata": {},
   "outputs": [
    {
     "name": "stdout",
     "output_type": "stream",
     "text": [
      "Column = edns\n",
      "Column = ednsflags\n"
     ]
    }
   ],
   "source": [
    "s_ednsflags = multiple_field_summary(data=d[(d['dns']=='ok') & (d['edns']=='ok')],\n",
    "                                   fields=['edns', 'ednsflags'])"
   ]
  },
  {
   "cell_type": "code",
   "execution_count": 557,
   "metadata": {},
   "outputs": [
    {
     "data": {
      "image/png": "[encoded data removed]",
      "text/plain": [
       "<matplotlib.figure.Figure at 0x7fd52a8fcbe0>"
      ]
     },
     "metadata": {},
     "output_type": "display_data"
    }
   ],
   "source": [
    "plot_comparison(data=s_ednsflags, title='edns vs ednsflags -- %s',\n",
    "                file_prefix='{zone}/{zone}-edns-ednsflags-{date}', loc=LOC_DATA)"
   ]
  },
  {
   "cell_type": "markdown",
   "metadata": {},
   "source": [
    "### Compare edns with optlist when edns=ok"
   ]
  },
  {
   "cell_type": "code",
   "execution_count": 558,
   "metadata": {},
   "outputs": [
    {
     "name": "stdout",
     "output_type": "stream",
     "text": [
      "Column = edns\n",
      "Column = optlist\n"
     ]
    }
   ],
   "source": [
    "s_optlist = multiple_field_summary(data=d[(d['dns']=='ok') & (d['edns']=='ok')],\n",
    "                                   fields=['edns', 'optlist'])"
   ]
  },
  {
   "cell_type": "code",
   "execution_count": 559,
   "metadata": {},
   "outputs": [
    {
     "data": {
      "image/png": "[encoded data removed]",
      "text/plain": [
       "<matplotlib.figure.Figure at 0x7fd53b828550>"
      ]
     },
     "metadata": {},
     "output_type": "display_data"
    }
   ],
   "source": [
    "plot_comparison(data=s_optlist, title='edns vs optlist -- %s',\n",
    "                file_prefix='{zone}/{zone}-edns-optlist-{date}', loc=LOC_DATA)"
   ]
  },
  {
   "cell_type": "markdown",
   "metadata": {
    "collapsed": true
   },
   "source": [
    "### Calculate a correctness score per server/address pair"
   ]
  },
  {
   "cell_type": "code",
   "execution_count": 560,
   "metadata": {},
   "outputs": [
    {
     "data": {
      "text/plain": [
       "Index(['address', 'aa', 'ad', 'cd', 'dns', 'do', 'docd', 'domain', 'edns',\n",
       "       'edns1', 'edns1cookie', 'edns1do', 'edns1expire', 'edns1nsid',\n",
       "       'edns1opt', 'edns1subnet', 'edns@512', 'ednscookie', 'ednsexpire',\n",
       "       'ednsflags', 'ednsnsid', 'ednsopt', 'ednssubnet', 'ednstcp', 'opcode',\n",
       "       'opcodeflg', 'optlist', 'ra', 'rd', 'server', 'signed', 'src_file',\n",
       "       'tc', 'tcp', 'type666', 'zflag', 'family'],\n",
       "      dtype='object')"
      ]
     },
     "execution_count": 560,
     "metadata": {},
     "output_type": "execute_result"
    }
   ],
   "source": [
    "d.columns"
   ]
  },
  {
   "cell_type": "code",
   "execution_count": 561,
   "metadata": {
    "collapsed": true
   },
   "outputs": [],
   "source": [
    "sel_fields = [c for c in d.columns if c not in ['signed', 'src_file']]\n",
    "d2 = d[sel_fields].melt(id_vars=['server', 'address', 'domain', 'family'])"
   ]
  },
  {
   "cell_type": "code",
   "execution_count": 562,
   "metadata": {},
   "outputs": [
    {
     "data": {
      "text/plain": [
       "array(['ok', 'ok,nsid', 'ok,cookie', 'ok,cookie+badcookie', 'ok,expire',\n",
       "       'ok,subnet', 'ok,nsid,expire,cookie,subnet', 'ok,nsid,expire',\n",
       "       'ok,expire,cookie,subnet', 'ok,expire,cookie',\n",
       "       'ok,nsid,cookie+badcookie,subnet', 'ok,nsid,subnet',\n",
       "       'ok,expire,subnet', 'ok,cookie+badcookie,subnet',\n",
       "       'ok,nsid,expire,subnet', 'ok,nsid,expire,cookie'], dtype=object)"
      ]
     },
     "execution_count": 562,
     "metadata": {},
     "output_type": "execute_result"
    }
   ],
   "source": [
    "d2[d2['value'].str.contains('ok')]['value'].unique()"
   ]
  },
  {
   "cell_type": "code",
   "execution_count": 563,
   "metadata": {
    "collapsed": true
   },
   "outputs": [],
   "source": [
    "dual_server_series = d2.drop_duplicates(subset=['server', 'address', 'family']).groupby('server').apply(lambda x: len(set(x['family'])))"
   ]
  },
  {
   "cell_type": "code",
   "execution_count": 564,
   "metadata": {
    "collapsed": true
   },
   "outputs": [],
   "source": [
    "dual_server_names = dual_server_series[dual_server_series==2].index\n",
    "dual_stack_count = len(dual_server_names)"
   ]
  },
  {
   "cell_type": "code",
   "execution_count": 565,
   "metadata": {},
   "outputs": [
    {
     "name": "stderr",
     "output_type": "stream",
     "text": [
      "/opt/a/anaconda3/lib/python3.6/site-packages/ipykernel_launcher.py:4: UserWarning: Boolean Series key will be reindexed to match DataFrame index.\n",
      "  after removing the cwd from sys.path.\n"
     ]
    }
   ],
   "source": [
    "# For nameservers that have multiple v4 and/or v6 addresses, generate a unique result of the address family\n",
    "# by picking the most frequent (mode) result for each column\n",
    "_fields = [c for c in d.columns if c not in ['signed', 'address', 'domain', 'src_file']]\n",
    "d3 = d[d2.server.isin(dual_server_names.tolist())][_fields]\n",
    "# d = d0.groupby(['address']).agg(lambda x: scipy.stats.mode(x)[0]).reset_index()"
   ]
  },
  {
   "cell_type": "code",
   "execution_count": 566,
   "metadata": {},
   "outputs": [
    {
     "data": {
      "text/html": [
       "<div>\n",
       "<style>\n",
       "    .dataframe thead tr:only-child th {\n",
       "        text-align: right;\n",
       "    }\n",
       "\n",
       "    .dataframe thead th {\n",
       "        text-align: left;\n",
       "    }\n",
       "\n",
       "    .dataframe tbody tr th {\n",
       "        vertical-align: top;\n",
       "    }\n",
       "</style>\n",
       "<table border=\"1\" class=\"dataframe\">\n",
       "  <thead>\n",
       "    <tr style=\"text-align: right;\">\n",
       "      <th></th>\n",
       "      <th>aa</th>\n",
       "      <th>ad</th>\n",
       "      <th>cd</th>\n",
       "      <th>dns</th>\n",
       "      <th>do</th>\n",
       "      <th>docd</th>\n",
       "      <th>edns</th>\n",
       "      <th>edns1</th>\n",
       "      <th>edns1cookie</th>\n",
       "      <th>edns1do</th>\n",
       "      <th>...</th>\n",
       "      <th>opcodeflg</th>\n",
       "      <th>optlist</th>\n",
       "      <th>ra</th>\n",
       "      <th>rd</th>\n",
       "      <th>server</th>\n",
       "      <th>tc</th>\n",
       "      <th>tcp</th>\n",
       "      <th>type666</th>\n",
       "      <th>zflag</th>\n",
       "      <th>family</th>\n",
       "    </tr>\n",
       "  </thead>\n",
       "  <tbody>\n",
       "    <tr>\n",
       "      <th>0</th>\n",
       "      <td>ok</td>\n",
       "      <td>ok</td>\n",
       "      <td>ok</td>\n",
       "      <td>ok</td>\n",
       "      <td>ok</td>\n",
       "      <td>ok</td>\n",
       "      <td>ok</td>\n",
       "      <td>ok</td>\n",
       "      <td>ok</td>\n",
       "      <td>ok</td>\n",
       "      <td>...</td>\n",
       "      <td>rd,cd</td>\n",
       "      <td>ok</td>\n",
       "      <td>ok</td>\n",
       "      <td>ok</td>\n",
       "      <td>(e.dns.id.):</td>\n",
       "      <td>ok</td>\n",
       "      <td>ok</td>\n",
       "      <td>ok</td>\n",
       "      <td>ok</td>\n",
       "      <td>v4</td>\n",
       "    </tr>\n",
       "    <tr>\n",
       "      <th>1</th>\n",
       "      <td>ok</td>\n",
       "      <td>ok</td>\n",
       "      <td>ok</td>\n",
       "      <td>ok</td>\n",
       "      <td>ok</td>\n",
       "      <td>nocd</td>\n",
       "      <td>ok</td>\n",
       "      <td>ok</td>\n",
       "      <td>ok</td>\n",
       "      <td>ok</td>\n",
       "      <td>...</td>\n",
       "      <td>formerr,rd</td>\n",
       "      <td>ok</td>\n",
       "      <td>ok</td>\n",
       "      <td>ok</td>\n",
       "      <td>(c.dns.id.):</td>\n",
       "      <td>ok</td>\n",
       "      <td>ok</td>\n",
       "      <td>ok</td>\n",
       "      <td>ok</td>\n",
       "      <td>v4</td>\n",
       "    </tr>\n",
       "    <tr>\n",
       "      <th>2</th>\n",
       "      <td>ok</td>\n",
       "      <td>ok</td>\n",
       "      <td>ok</td>\n",
       "      <td>ok</td>\n",
       "      <td>ok</td>\n",
       "      <td>nocd</td>\n",
       "      <td>ok</td>\n",
       "      <td>ok</td>\n",
       "      <td>ok</td>\n",
       "      <td>ok</td>\n",
       "      <td>...</td>\n",
       "      <td>formerr,rd</td>\n",
       "      <td>ok</td>\n",
       "      <td>ok</td>\n",
       "      <td>ok</td>\n",
       "      <td>(b.dns.id.):</td>\n",
       "      <td>ok</td>\n",
       "      <td>ok</td>\n",
       "      <td>ok</td>\n",
       "      <td>ok</td>\n",
       "      <td>v4</td>\n",
       "    </tr>\n",
       "    <tr>\n",
       "      <th>3</th>\n",
       "      <td>ok</td>\n",
       "      <td>ok</td>\n",
       "      <td>ok</td>\n",
       "      <td>ok</td>\n",
       "      <td>ok</td>\n",
       "      <td>ok</td>\n",
       "      <td>ok</td>\n",
       "      <td>ok</td>\n",
       "      <td>ok</td>\n",
       "      <td>ok</td>\n",
       "      <td>...</td>\n",
       "      <td>rd,cd</td>\n",
       "      <td>ok,nsid</td>\n",
       "      <td>ok</td>\n",
       "      <td>ok</td>\n",
       "      <td>(tld4.nic.jprs.):</td>\n",
       "      <td>ok</td>\n",
       "      <td>ok</td>\n",
       "      <td>ok</td>\n",
       "      <td>ok</td>\n",
       "      <td>v4</td>\n",
       "    </tr>\n",
       "    <tr>\n",
       "      <th>4</th>\n",
       "      <td>ok</td>\n",
       "      <td>ok</td>\n",
       "      <td>ok</td>\n",
       "      <td>ok</td>\n",
       "      <td>ok</td>\n",
       "      <td>ok</td>\n",
       "      <td>ok</td>\n",
       "      <td>ok</td>\n",
       "      <td>ok</td>\n",
       "      <td>ok</td>\n",
       "      <td>...</td>\n",
       "      <td>rd,cd</td>\n",
       "      <td>ok</td>\n",
       "      <td>ok</td>\n",
       "      <td>ok</td>\n",
       "      <td>(ns4.admin.net.):</td>\n",
       "      <td>ok</td>\n",
       "      <td>ok</td>\n",
       "      <td>ok</td>\n",
       "      <td>ok</td>\n",
       "      <td>v4</td>\n",
       "    </tr>\n",
       "  </tbody>\n",
       "</table>\n",
       "<p>5 rows × 33 columns</p>\n",
       "</div>"
      ],
      "text/plain": [
       "   aa  ad  cd dns  do  docd edns edns1 edns1cookie edns1do  ...     opcodeflg  \\\n",
       "0  ok  ok  ok  ok  ok    ok   ok    ok          ok      ok  ...         rd,cd   \n",
       "1  ok  ok  ok  ok  ok  nocd   ok    ok          ok      ok  ...    formerr,rd   \n",
       "2  ok  ok  ok  ok  ok  nocd   ok    ok          ok      ok  ...    formerr,rd   \n",
       "3  ok  ok  ok  ok  ok    ok   ok    ok          ok      ok  ...         rd,cd   \n",
       "4  ok  ok  ok  ok  ok    ok   ok    ok          ok      ok  ...         rd,cd   \n",
       "\n",
       "   optlist  ra  rd             server  tc tcp type666 zflag family  \n",
       "0       ok  ok  ok       (e.dns.id.):  ok  ok      ok    ok     v4  \n",
       "1       ok  ok  ok       (c.dns.id.):  ok  ok      ok    ok     v4  \n",
       "2       ok  ok  ok       (b.dns.id.):  ok  ok      ok    ok     v4  \n",
       "3  ok,nsid  ok  ok  (tld4.nic.jprs.):  ok  ok      ok    ok     v4  \n",
       "4       ok  ok  ok  (ns4.admin.net.):  ok  ok      ok    ok     v4  \n",
       "\n",
       "[5 rows x 33 columns]"
      ]
     },
     "execution_count": 566,
     "metadata": {},
     "output_type": "execute_result"
    }
   ],
   "source": [
    "d3.head()"
   ]
  },
  {
   "cell_type": "code",
   "execution_count": 567,
   "metadata": {},
   "outputs": [
    {
     "name": "stderr",
     "output_type": "stream",
     "text": [
      "/opt/a/anaconda3/lib/python3.6/site-packages/scipy/stats/stats.py:245: RuntimeWarning: The input array could not be properly checked for nan values. nan values will be ignored.\n",
      "  \"values. nan values will be ignored.\", RuntimeWarning)\n"
     ]
    }
   ],
   "source": [
    "d3b = d3.groupby(['server', 'family']).agg(lambda x: scipy.stats.mode(x)[0]).reset_index()\\\n",
    "    .melt(id_vars=['server', 'family'])\n",
    "d3b.columns = ['server', 'family', 'test', 'test_value']"
   ]
  },
  {
   "cell_type": "code",
   "execution_count": 568,
   "metadata": {},
   "outputs": [
    {
     "data": {
      "text/html": [
       "<div>\n",
       "<style>\n",
       "    .dataframe thead tr:only-child th {\n",
       "        text-align: right;\n",
       "    }\n",
       "\n",
       "    .dataframe thead th {\n",
       "        text-align: left;\n",
       "    }\n",
       "\n",
       "    .dataframe tbody tr th {\n",
       "        vertical-align: top;\n",
       "    }\n",
       "</style>\n",
       "<table border=\"1\" class=\"dataframe\">\n",
       "  <thead>\n",
       "    <tr style=\"text-align: right;\">\n",
       "      <th></th>\n",
       "      <th>server</th>\n",
       "      <th>family</th>\n",
       "      <th>test</th>\n",
       "      <th>test_value</th>\n",
       "    </tr>\n",
       "  </thead>\n",
       "  <tbody>\n",
       "    <tr>\n",
       "      <th>0</th>\n",
       "      <td>(1.ns.ph.):</td>\n",
       "      <td>v4</td>\n",
       "      <td>aa</td>\n",
       "      <td>ok</td>\n",
       "    </tr>\n",
       "    <tr>\n",
       "      <th>1</th>\n",
       "      <td>(1.ns.ph.):</td>\n",
       "      <td>v6</td>\n",
       "      <td>aa</td>\n",
       "      <td>ok</td>\n",
       "    </tr>\n",
       "    <tr>\n",
       "      <th>2</th>\n",
       "      <td>(a-dns.pl.):</td>\n",
       "      <td>v4</td>\n",
       "      <td>aa</td>\n",
       "      <td>ok</td>\n",
       "    </tr>\n",
       "    <tr>\n",
       "      <th>3</th>\n",
       "      <td>(a-dns.pl.):</td>\n",
       "      <td>v6</td>\n",
       "      <td>aa</td>\n",
       "      <td>ok</td>\n",
       "    </tr>\n",
       "    <tr>\n",
       "      <th>4</th>\n",
       "      <td>(a.aq.dyntld.net.):</td>\n",
       "      <td>v4</td>\n",
       "      <td>aa</td>\n",
       "      <td>ok</td>\n",
       "    </tr>\n",
       "    <tr>\n",
       "      <th>5</th>\n",
       "      <td>(a.aq.dyntld.net.):</td>\n",
       "      <td>v6</td>\n",
       "      <td>aa</td>\n",
       "      <td>ok</td>\n",
       "    </tr>\n",
       "    <tr>\n",
       "      <th>6</th>\n",
       "      <td>(a.au.):</td>\n",
       "      <td>v4</td>\n",
       "      <td>aa</td>\n",
       "      <td>ok</td>\n",
       "    </tr>\n",
       "    <tr>\n",
       "      <th>7</th>\n",
       "      <td>(a.au.):</td>\n",
       "      <td>v6</td>\n",
       "      <td>aa</td>\n",
       "      <td>ok</td>\n",
       "    </tr>\n",
       "    <tr>\n",
       "      <th>8</th>\n",
       "      <td>(a.dns-servers.vn.):</td>\n",
       "      <td>v4</td>\n",
       "      <td>aa</td>\n",
       "      <td>ok</td>\n",
       "    </tr>\n",
       "    <tr>\n",
       "      <th>9</th>\n",
       "      <td>(a.dns-servers.vn.):</td>\n",
       "      <td>v6</td>\n",
       "      <td>aa</td>\n",
       "      <td>ok</td>\n",
       "    </tr>\n",
       "  </tbody>\n",
       "</table>\n",
       "</div>"
      ],
      "text/plain": [
       "                 server family test test_value\n",
       "0           (1.ns.ph.):     v4   aa         ok\n",
       "1           (1.ns.ph.):     v6   aa         ok\n",
       "2          (a-dns.pl.):     v4   aa         ok\n",
       "3          (a-dns.pl.):     v6   aa         ok\n",
       "4   (a.aq.dyntld.net.):     v4   aa         ok\n",
       "5   (a.aq.dyntld.net.):     v6   aa         ok\n",
       "6              (a.au.):     v4   aa         ok\n",
       "7              (a.au.):     v6   aa         ok\n",
       "8  (a.dns-servers.vn.):     v4   aa         ok\n",
       "9  (a.dns-servers.vn.):     v6   aa         ok"
      ]
     },
     "execution_count": 568,
     "metadata": {},
     "output_type": "execute_result"
    }
   ],
   "source": [
    "d3b.head(10)"
   ]
  },
  {
   "cell_type": "code",
   "execution_count": 569,
   "metadata": {
    "collapsed": true
   },
   "outputs": [],
   "source": [
    "d3c = d3b.set_index(['server', 'family', 'test']).unstack('family').reset_index()\n",
    "d3c.columns=['server', 'test', 'v4', 'v6']"
   ]
  },
  {
   "cell_type": "code",
   "execution_count": 570,
   "metadata": {
    "collapsed": true
   },
   "outputs": [],
   "source": [
    "differing = d3c[d3c['v4']!=d3c['v6']]"
   ]
  },
  {
   "cell_type": "code",
   "execution_count": 571,
   "metadata": {
    "collapsed": true
   },
   "outputs": [],
   "source": [
    "dual_stack_divergent_cnt = len(differing['server'].unique())"
   ]
  },
  {
   "cell_type": "code",
   "execution_count": 572,
   "metadata": {
    "collapsed": true
   },
   "outputs": [],
   "source": [
    "pd.DataFrame(differing['test'].value_counts()).reset_index().to_json('{zone}/{zone}-differing-test-count-per-family-{date}.json'.format(**LOC_DATA))"
   ]
  },
  {
   "cell_type": "code",
   "execution_count": 573,
   "metadata": {
    "collapsed": true
   },
   "outputs": [],
   "source": [
    "differing.groupby(['test', 'v4', 'v6']).count().reset_index().to_json('{zone}/{zone}-differing-test-values-per-family-{date}.json'.format(**LOC_DATA))"
   ]
  },
  {
   "cell_type": "code",
   "execution_count": 574,
   "metadata": {
    "collapsed": true
   },
   "outputs": [],
   "source": [
    "d2['score'] = d2['value'].apply(lambda x: 1.0 if x=='ok' else 0.8 if 'ok' in x else 0.0)"
   ]
  },
  {
   "cell_type": "code",
   "execution_count": 575,
   "metadata": {},
   "outputs": [
    {
     "data": {
      "text/html": [
       "<div>\n",
       "<style>\n",
       "    .dataframe thead tr:only-child th {\n",
       "        text-align: right;\n",
       "    }\n",
       "\n",
       "    .dataframe thead th {\n",
       "        text-align: left;\n",
       "    }\n",
       "\n",
       "    .dataframe tbody tr th {\n",
       "        vertical-align: top;\n",
       "    }\n",
       "</style>\n",
       "<table border=\"1\" class=\"dataframe\">\n",
       "  <thead>\n",
       "    <tr style=\"text-align: right;\">\n",
       "      <th></th>\n",
       "      <th>server</th>\n",
       "      <th>address</th>\n",
       "      <th>domain</th>\n",
       "      <th>family</th>\n",
       "      <th>variable</th>\n",
       "      <th>value</th>\n",
       "      <th>score</th>\n",
       "    </tr>\n",
       "  </thead>\n",
       "  <tbody>\n",
       "    <tr>\n",
       "      <th>0</th>\n",
       "      <td>(e.dns.id.):</td>\n",
       "      <td>@103.19.177.177</td>\n",
       "      <td>id.</td>\n",
       "      <td>v4</td>\n",
       "      <td>aa</td>\n",
       "      <td>ok</td>\n",
       "      <td>1.0</td>\n",
       "    </tr>\n",
       "    <tr>\n",
       "      <th>1</th>\n",
       "      <td>(c.dns.id.):</td>\n",
       "      <td>@103.19.178.178</td>\n",
       "      <td>id.</td>\n",
       "      <td>v4</td>\n",
       "      <td>aa</td>\n",
       "      <td>ok</td>\n",
       "      <td>1.0</td>\n",
       "    </tr>\n",
       "    <tr>\n",
       "      <th>2</th>\n",
       "      <td>(b.dns.id.):</td>\n",
       "      <td>@103.19.179.179</td>\n",
       "      <td>id.</td>\n",
       "      <td>v4</td>\n",
       "      <td>aa</td>\n",
       "      <td>ok</td>\n",
       "      <td>1.0</td>\n",
       "    </tr>\n",
       "    <tr>\n",
       "      <th>3</th>\n",
       "      <td>(tld4.nic.jprs.):</td>\n",
       "      <td>@103.198.210.1</td>\n",
       "      <td>jprs.</td>\n",
       "      <td>v4</td>\n",
       "      <td>aa</td>\n",
       "      <td>ok</td>\n",
       "      <td>1.0</td>\n",
       "    </tr>\n",
       "    <tr>\n",
       "      <th>4</th>\n",
       "      <td>(ns4.admin.net.):</td>\n",
       "      <td>@103.25.58.26</td>\n",
       "      <td>tg.</td>\n",
       "      <td>v4</td>\n",
       "      <td>aa</td>\n",
       "      <td>ok</td>\n",
       "      <td>1.0</td>\n",
       "    </tr>\n",
       "  </tbody>\n",
       "</table>\n",
       "</div>"
      ],
      "text/plain": [
       "              server          address domain family variable value  score\n",
       "0       (e.dns.id.):  @103.19.177.177    id.     v4       aa    ok    1.0\n",
       "1       (c.dns.id.):  @103.19.178.178    id.     v4       aa    ok    1.0\n",
       "2       (b.dns.id.):  @103.19.179.179    id.     v4       aa    ok    1.0\n",
       "3  (tld4.nic.jprs.):   @103.198.210.1  jprs.     v4       aa    ok    1.0\n",
       "4  (ns4.admin.net.):    @103.25.58.26    tg.     v4       aa    ok    1.0"
      ]
     },
     "execution_count": 575,
     "metadata": {},
     "output_type": "execute_result"
    }
   ],
   "source": [
    "d2.head()"
   ]
  },
  {
   "cell_type": "code",
   "execution_count": 576,
   "metadata": {
    "collapsed": true
   },
   "outputs": [],
   "source": [
    "BINS=10\n",
    "def hist2df(data=None, col_name=None, col_value=None, col_cnt_name='server_cnt'):\n",
    "    bin_range = np.arange(0.0, 1.01, 1.0/BINS)\n",
    "    range_fmt = \"[{0[0]:.1f}-{0[1]:.1f})\"\n",
    "    end_range_fmt = \"[{0[0]:.1f}-{0[1]:.1f}]\"\n",
    "    bin_labels = [range_fmt.format(bin_range[i:i+2]) for i in range(0, len(bin_range)-2)] + [end_range_fmt.format(bin_range[-2:])]\n",
    "    out, bins  = pd.cut(data, bins=bin_range, labels=bin_labels, include_lowest=True, right=True, retbins=True)\n",
    "    df = pd.DataFrame(out.value_counts(sort=False))\n",
    "    df.columns = [col_cnt_name]\n",
    "    df['fraction'] = 100 * (df[col_cnt_name] / df[col_cnt_name].sum())\n",
    "    df['fraction_cum'] = df['fraction'].cumsum()\n",
    "    if col_name is not None:\n",
    "        df[col_name] = col_value\n",
    "    df.reset_index(inplace=True)\n",
    "    df.rename(columns={'index': 'bin'}, inplace=True)\n",
    "    return df"
   ]
  },
  {
   "cell_type": "code",
   "execution_count": 577,
   "metadata": {
    "collapsed": true
   },
   "outputs": [],
   "source": [
    "server_score = d2.groupby(['server'])['score'].apply(lambda x: x.sum()/len(x)).reset_index()\n",
    "server_score_hist = hist2df(server_score['score'])\n",
    "server_score_hist.to_json('{zone}/{zone}-server-score-histogram-{date}.json'.format(**LOC_DATA))"
   ]
  },
  {
   "cell_type": "code",
   "execution_count": 578,
   "metadata": {},
   "outputs": [
    {
     "data": {
      "text/plain": [
       "Text(0.5,1,'ROOT -- Server score distribution')"
      ]
     },
     "execution_count": 578,
     "metadata": {},
     "output_type": "execute_result"
    },
    {
     "data": {
      "image/png": "[encoded data removed]",
      "text/plain": [
       "<matplotlib.figure.Figure at 0x7fd526929ac8>"
      ]
     },
     "metadata": {},
     "output_type": "display_data"
    }
   ],
   "source": [
    "sns.set(style='whitegrid', font_scale=1.6)\n",
    "plt.figure(figsize=(16,9))\n",
    "\n",
    "ax = sns.barplot(data=server_score_hist, x='fraction', y='bin', color='black', saturation=0.9)\n",
    "ax.set_xlabel('Percentage of servers')\n",
    "ax.set_ylabel('Server score bin')\n",
    "ax.set_title('%s -- Server score distribution' % ZONE)"
   ]
  },
  {
   "cell_type": "code",
   "execution_count": 579,
   "metadata": {
    "collapsed": true
   },
   "outputs": [],
   "source": [
    "server_fam_score = d2.groupby(['server', 'family'])['score'].apply(lambda x: x.sum()/len(x)).reset_index()"
   ]
  },
  {
   "cell_type": "code",
   "execution_count": 580,
   "metadata": {},
   "outputs": [
    {
     "data": {
      "text/html": [
       "<div>\n",
       "<style>\n",
       "    .dataframe thead tr:only-child th {\n",
       "        text-align: right;\n",
       "    }\n",
       "\n",
       "    .dataframe thead th {\n",
       "        text-align: left;\n",
       "    }\n",
       "\n",
       "    .dataframe tbody tr th {\n",
       "        vertical-align: top;\n",
       "    }\n",
       "</style>\n",
       "<table border=\"1\" class=\"dataframe\">\n",
       "  <thead>\n",
       "    <tr style=\"text-align: right;\">\n",
       "      <th></th>\n",
       "      <th>server</th>\n",
       "      <th>family</th>\n",
       "      <th>score</th>\n",
       "    </tr>\n",
       "  </thead>\n",
       "  <tbody>\n",
       "    <tr>\n",
       "      <th>0</th>\n",
       "      <td>(1.ns.ph.):</td>\n",
       "      <td>v4</td>\n",
       "      <td>0.954839</td>\n",
       "    </tr>\n",
       "    <tr>\n",
       "      <th>1</th>\n",
       "      <td>(1.ns.ph.):</td>\n",
       "      <td>v6</td>\n",
       "      <td>0.954839</td>\n",
       "    </tr>\n",
       "    <tr>\n",
       "      <th>2</th>\n",
       "      <td>(a-dns.pl.):</td>\n",
       "      <td>v4</td>\n",
       "      <td>0.980645</td>\n",
       "    </tr>\n",
       "    <tr>\n",
       "      <th>3</th>\n",
       "      <td>(a-dns.pl.):</td>\n",
       "      <td>v6</td>\n",
       "      <td>0.980645</td>\n",
       "    </tr>\n",
       "    <tr>\n",
       "      <th>4</th>\n",
       "      <td>(a.aq.dyntld.net.):</td>\n",
       "      <td>v4</td>\n",
       "      <td>0.916129</td>\n",
       "    </tr>\n",
       "  </tbody>\n",
       "</table>\n",
       "</div>"
      ],
      "text/plain": [
       "                server family     score\n",
       "0          (1.ns.ph.):     v4  0.954839\n",
       "1          (1.ns.ph.):     v6  0.954839\n",
       "2         (a-dns.pl.):     v4  0.980645\n",
       "3         (a-dns.pl.):     v6  0.980645\n",
       "4  (a.aq.dyntld.net.):     v4  0.916129"
      ]
     },
     "execution_count": 580,
     "metadata": {},
     "output_type": "execute_result"
    }
   ],
   "source": [
    "server_fam_score.head()"
   ]
  },
  {
   "cell_type": "code",
   "execution_count": 581,
   "metadata": {},
   "outputs": [
    {
     "data": {
      "text/plain": [
       "3654"
      ]
     },
     "execution_count": 581,
     "metadata": {},
     "output_type": "execute_result"
    }
   ],
   "source": [
    "server_fam_score['server'].nunique()"
   ]
  },
  {
   "cell_type": "code",
   "execution_count": 582,
   "metadata": {},
   "outputs": [
    {
     "data": {
      "text/plain": [
       "3654"
      ]
     },
     "execution_count": 582,
     "metadata": {},
     "output_type": "execute_result"
    }
   ],
   "source": [
    "n_server"
   ]
  },
  {
   "cell_type": "code",
   "execution_count": 583,
   "metadata": {},
   "outputs": [
    {
     "data": {
      "text/plain": [
       "3648"
      ]
     },
     "execution_count": 583,
     "metadata": {},
     "output_type": "execute_result"
    }
   ],
   "source": [
    "server_fam_score.query(\"family=='v4'\")['server'].nunique()"
   ]
  },
  {
   "cell_type": "code",
   "execution_count": 584,
   "metadata": {},
   "outputs": [
    {
     "data": {
      "text/plain": [
       "3272"
      ]
     },
     "execution_count": 584,
     "metadata": {},
     "output_type": "execute_result"
    }
   ],
   "source": [
    "server_fam_score.query(\"family=='v6'\")['server'].nunique()"
   ]
  },
  {
   "cell_type": "code",
   "execution_count": 585,
   "metadata": {
    "collapsed": true
   },
   "outputs": [],
   "source": [
    "# Servers with IPv6-only addresses\n",
    "ipv6_only_server = len(set(server_fam_score.query(\"family=='v6'\")['server'].unique())-set(server_fam_score.query(\"family=='v4'\")['server'].unique()))"
   ]
  },
  {
   "cell_type": "code",
   "execution_count": 586,
   "metadata": {
    "collapsed": true
   },
   "outputs": [],
   "source": [
    "# Servers with IPv6-only addresses\n",
    "ipv4_only_server = len(set(server_fam_score.query(\"family=='v4'\")['server'].unique())-set(server_fam_score.query(\"family=='v6'\")['server'].unique()))"
   ]
  },
  {
   "cell_type": "code",
   "execution_count": 587,
   "metadata": {
    "collapsed": true
   },
   "outputs": [],
   "source": [
    "server_fam_score_hist = pd.concat([hist2df(data=server_fam_score.query(\"family=='v4'\")['score'], col_name='family', col_value='v4'),\n",
    "                                   hist2df(data=server_fam_score.query(\"family=='v6'\")['score'], col_name='family', col_value='v6')]).reset_index()\n",
    "server_fam_score_hist['zone'] = ZONE\n",
    "server_fam_score_hist.to_json('{zone}/{zone}-server-score-histogram-per-address-family-{date}.json'.format(**LOC_DATA))"
   ]
  },
  {
   "cell_type": "code",
   "execution_count": 588,
   "metadata": {},
   "outputs": [
    {
     "data": {
      "text/plain": [
       "Text(0.5,1,'ROOT -- nameserver score distribution per address family')"
      ]
     },
     "execution_count": 588,
     "metadata": {},
     "output_type": "execute_result"
    },
    {
     "data": {
      "image/png": "[encoded data removed]",
      "text/plain": [
       "<matplotlib.figure.Figure at 0x7fd526925b38>"
      ]
     },
     "metadata": {},
     "output_type": "display_data"
    }
   ],
   "source": [
    "sns.set(style='whitegrid', font_scale=1.6)\n",
    "plt.figure(figsize=(16,9))\n",
    "\n",
    "ax = sns.barplot(data=server_fam_score_hist, y='bin', x='fraction', hue='family')\n",
    "ax.set_xlabel('Percentage of servers')\n",
    "ax.set_ylabel('Server score bin')\n",
    "ax.set_title('%s -- nameserver score distribution per address family' % ZONE)"
   ]
  },
  {
   "cell_type": "code",
   "execution_count": 589,
   "metadata": {
    "collapsed": true
   },
   "outputs": [],
   "source": [
    "server_dual_stack_score = d2.groupby(['server', 'family'])['score'].apply(lambda x: x.sum()/len(x)).reset_index().pivot_table(index='server', columns='family', values='score').dropna().reset_index()"
   ]
  },
  {
   "cell_type": "code",
   "execution_count": 590,
   "metadata": {},
   "outputs": [
    {
     "data": {
      "text/html": [
       "<div>\n",
       "<style>\n",
       "    .dataframe thead tr:only-child th {\n",
       "        text-align: right;\n",
       "    }\n",
       "\n",
       "    .dataframe thead th {\n",
       "        text-align: left;\n",
       "    }\n",
       "\n",
       "    .dataframe tbody tr th {\n",
       "        vertical-align: top;\n",
       "    }\n",
       "</style>\n",
       "<table border=\"1\" class=\"dataframe\">\n",
       "  <thead>\n",
       "    <tr style=\"text-align: right;\">\n",
       "      <th>family</th>\n",
       "      <th>server</th>\n",
       "      <th>v4</th>\n",
       "      <th>v6</th>\n",
       "    </tr>\n",
       "  </thead>\n",
       "  <tbody>\n",
       "    <tr>\n",
       "      <th>0</th>\n",
       "      <td>(1.ns.ph.):</td>\n",
       "      <td>0.954839</td>\n",
       "      <td>0.954839</td>\n",
       "    </tr>\n",
       "    <tr>\n",
       "      <th>1</th>\n",
       "      <td>(a-dns.pl.):</td>\n",
       "      <td>0.980645</td>\n",
       "      <td>0.980645</td>\n",
       "    </tr>\n",
       "    <tr>\n",
       "      <th>2</th>\n",
       "      <td>(a.aq.dyntld.net.):</td>\n",
       "      <td>0.916129</td>\n",
       "      <td>0.980645</td>\n",
       "    </tr>\n",
       "    <tr>\n",
       "      <th>3</th>\n",
       "      <td>(a.au.):</td>\n",
       "      <td>0.954839</td>\n",
       "      <td>0.954839</td>\n",
       "    </tr>\n",
       "    <tr>\n",
       "      <th>4</th>\n",
       "      <td>(a.dns-servers.vn.):</td>\n",
       "      <td>0.870968</td>\n",
       "      <td>0.870968</td>\n",
       "    </tr>\n",
       "  </tbody>\n",
       "</table>\n",
       "</div>"
      ],
      "text/plain": [
       "family                server        v4        v6\n",
       "0                (1.ns.ph.):  0.954839  0.954839\n",
       "1               (a-dns.pl.):  0.980645  0.980645\n",
       "2        (a.aq.dyntld.net.):  0.916129  0.980645\n",
       "3                   (a.au.):  0.954839  0.954839\n",
       "4       (a.dns-servers.vn.):  0.870968  0.870968"
      ]
     },
     "execution_count": 590,
     "metadata": {},
     "output_type": "execute_result"
    }
   ],
   "source": [
    "server_dual_stack_score.head(5)"
   ]
  },
  {
   "cell_type": "code",
   "execution_count": 591,
   "metadata": {
    "collapsed": true
   },
   "outputs": [],
   "source": [
    "server_dual_stack_score_hist = pd.concat([hist2df(data=server_dual_stack_score['v4'], col_name='family', col_value='v4'),\n",
    "                                   hist2df(data=server_dual_stack_score['v6'], col_name='family', col_value='v6')]).reset_index()\n",
    "server_dual_stack_score_hist['zone'] = ZONE\n",
    "server_dual_stack_score_hist.to_json('{zone}/{zone}-dual-stack-server-score-histogram-{date}.json'.format(**LOC_DATA))"
   ]
  },
  {
   "cell_type": "code",
   "execution_count": 592,
   "metadata": {},
   "outputs": [
    {
     "data": {
      "text/html": [
       "<div>\n",
       "<style>\n",
       "    .dataframe thead tr:only-child th {\n",
       "        text-align: right;\n",
       "    }\n",
       "\n",
       "    .dataframe thead th {\n",
       "        text-align: left;\n",
       "    }\n",
       "\n",
       "    .dataframe tbody tr th {\n",
       "        vertical-align: top;\n",
       "    }\n",
       "</style>\n",
       "<table border=\"1\" class=\"dataframe\">\n",
       "  <thead>\n",
       "    <tr style=\"text-align: right;\">\n",
       "      <th></th>\n",
       "      <th>index</th>\n",
       "      <th>bin</th>\n",
       "      <th>server_cnt</th>\n",
       "      <th>fraction</th>\n",
       "      <th>fraction_cum</th>\n",
       "      <th>family</th>\n",
       "      <th>zone</th>\n",
       "    </tr>\n",
       "  </thead>\n",
       "  <tbody>\n",
       "    <tr>\n",
       "      <th>0</th>\n",
       "      <td>0</td>\n",
       "      <td>[0.0-0.1)</td>\n",
       "      <td>4</td>\n",
       "      <td>0.122474</td>\n",
       "      <td>0.122474</td>\n",
       "      <td>v4</td>\n",
       "      <td>ROOT</td>\n",
       "    </tr>\n",
       "    <tr>\n",
       "      <th>1</th>\n",
       "      <td>1</td>\n",
       "      <td>[0.1-0.2)</td>\n",
       "      <td>2</td>\n",
       "      <td>0.061237</td>\n",
       "      <td>0.183711</td>\n",
       "      <td>v4</td>\n",
       "      <td>ROOT</td>\n",
       "    </tr>\n",
       "    <tr>\n",
       "      <th>2</th>\n",
       "      <td>2</td>\n",
       "      <td>[0.2-0.3)</td>\n",
       "      <td>4</td>\n",
       "      <td>0.122474</td>\n",
       "      <td>0.306185</td>\n",
       "      <td>v4</td>\n",
       "      <td>ROOT</td>\n",
       "    </tr>\n",
       "    <tr>\n",
       "      <th>3</th>\n",
       "      <td>3</td>\n",
       "      <td>[0.3-0.4)</td>\n",
       "      <td>0</td>\n",
       "      <td>0.000000</td>\n",
       "      <td>0.306185</td>\n",
       "      <td>v4</td>\n",
       "      <td>ROOT</td>\n",
       "    </tr>\n",
       "    <tr>\n",
       "      <th>4</th>\n",
       "      <td>4</td>\n",
       "      <td>[0.4-0.5)</td>\n",
       "      <td>1</td>\n",
       "      <td>0.030618</td>\n",
       "      <td>0.336803</td>\n",
       "      <td>v4</td>\n",
       "      <td>ROOT</td>\n",
       "    </tr>\n",
       "  </tbody>\n",
       "</table>\n",
       "</div>"
      ],
      "text/plain": [
       "   index        bin  server_cnt  fraction  fraction_cum family  zone\n",
       "0      0  [0.0-0.1)           4  0.122474      0.122474     v4  ROOT\n",
       "1      1  [0.1-0.2)           2  0.061237      0.183711     v4  ROOT\n",
       "2      2  [0.2-0.3)           4  0.122474      0.306185     v4  ROOT\n",
       "3      3  [0.3-0.4)           0  0.000000      0.306185     v4  ROOT\n",
       "4      4  [0.4-0.5)           1  0.030618      0.336803     v4  ROOT"
      ]
     },
     "execution_count": 592,
     "metadata": {},
     "output_type": "execute_result"
    }
   ],
   "source": [
    "server_dual_stack_score_hist.head()"
   ]
  },
  {
   "cell_type": "code",
   "execution_count": 593,
   "metadata": {},
   "outputs": [
    {
     "data": {
      "text/plain": [
       "Text(0.5,1,'ROOT -- dual-stack nameserver score distribution')"
      ]
     },
     "execution_count": 593,
     "metadata": {},
     "output_type": "execute_result"
    },
    {
     "data": {
      "image/png": "[encoded data removed]",
      "text/plain": [
       "<matplotlib.figure.Figure at 0x7fd526893630>"
      ]
     },
     "metadata": {},
     "output_type": "display_data"
    }
   ],
   "source": [
    "sns.set(style='whitegrid', font_scale=1.6)\n",
    "plt.figure(figsize=(16,9))\n",
    "\n",
    "ax = sns.barplot(data=server_dual_stack_score_hist, y='bin', x='fraction', hue='family')\n",
    "ax.set_xlabel('Percentage of servers')\n",
    "ax.set_ylabel('Server score bin')\n",
    "ax.set_title('%s -- dual-stack nameserver score distribution' % ZONE)"
   ]
  },
  {
   "cell_type": "code",
   "execution_count": 594,
   "metadata": {
    "collapsed": true
   },
   "outputs": [],
   "source": [
    "# Identify the servers that have both IPv4 and IPv6 for a fair comparison\n"
   ]
  },
  {
   "cell_type": "code",
   "execution_count": 595,
   "metadata": {
    "collapsed": true
   },
   "outputs": [],
   "source": [
    "domain_score = d2.groupby(['domain'])['score'].apply(lambda x: x.sum()/len(x)).reset_index()"
   ]
  },
  {
   "cell_type": "code",
   "execution_count": 596,
   "metadata": {
    "collapsed": true
   },
   "outputs": [],
   "source": [
    "domain_score_hist = hist2df(data=domain_score['score'], col_cnt_name='dom_cnt').reset_index()"
   ]
  },
  {
   "cell_type": "code",
   "execution_count": 597,
   "metadata": {},
   "outputs": [
    {
     "data": {
      "text/plain": [
       "Text(0.5,1,'ROOT -- Domain score distribution')"
      ]
     },
     "execution_count": 597,
     "metadata": {},
     "output_type": "execute_result"
    },
    {
     "data": {
      "image/png": "[encoded data removed]",
      "text/plain": [
       "<matplotlib.figure.Figure at 0x7fd526845b00>"
      ]
     },
     "metadata": {},
     "output_type": "display_data"
    }
   ],
   "source": [
    "sns.set(style='whitegrid', font_scale=1.6)\n",
    "plt.figure(figsize=(16,9))\n",
    "\n",
    "ax = sns.barplot(data=domain_score_hist, x='fraction', y='bin', color='black', saturation=0.9)\n",
    "ax.set_xlabel('Percentage of domains')\n",
    "ax.set_ylabel('Domain score bin')\n",
    "ax.set_title('%s -- Domain score distribution' % ZONE)\n"
   ]
  },
  {
   "cell_type": "code",
   "execution_count": 598,
   "metadata": {
    "collapsed": true
   },
   "outputs": [],
   "source": [
    "domain_score_hist.to_json('{zone}/{zone}-domain-score-histogram-{date}.json'.format(**LOC_DATA))"
   ]
  },
  {
   "cell_type": "code",
   "execution_count": 599,
   "metadata": {
    "collapsed": true
   },
   "outputs": [],
   "source": [
    "# Generate the summary of certain tests to compare with ISC results\n",
    "pd.concat([\n",
    "    s_dns_edns.query(\"(test=='edns') & (error_type=='ok')\"),\n",
    "    s_edns_ednsopt.query(\"(test=='ednsopt') & (error_type=='ok')\"),\n",
    "    s_edns_edns1.query(\"(test=='edns1') & (error_type=='ok')\"),\n",
    "    s_do_edns.query(\"(test=='do') & (error_type=='ok')\"),\n",
    "    s_optlist.query(\"(test=='optlist') & (error_type=='nsid')\")\n",
    "]).reset_index().to_json(\"{zone}/{zone}-comparative-metrics-{date}.json\".format(**LOC_DATA))"
   ]
  },
  {
   "cell_type": "code",
   "execution_count": 600,
   "metadata": {
    "collapsed": true
   },
   "outputs": [],
   "source": [
    "gen_stats = pd.DataFrame([('# domains', n_dom),\n",
    "                          ('# servers', n_server),\n",
    "                          ('# dual stack server', dual_stack_count),\n",
    "                          ('# mismatch dual stack server', dual_stack_divergent_cnt),\n",
    "                          ('# IPv6-only servers', ipv6_only_server),\n",
    "                          ('# IPv4-only servers', ipv4_only_server),\n",
    "                         ('Unique addresses', n_addr),\n",
    "                         ('Unique v4 addresses', uniq_v4_addr),\n",
    "                         ('Unique v6 addresses', uniq_v6_addr)], columns=['Metric', 'Value'])\n",
    "gen_stats['zone'] = ZONE\n",
    "gen_stats.to_json('{zone}/{zone}-general-stats-{date}.json'.format(**LOC_DATA))"
   ]
  },
  {
   "cell_type": "code",
   "execution_count": null,
   "metadata": {
    "collapsed": true
   },
   "outputs": [],
   "source": []
  }
 ],
 "metadata": {
  "anaconda-cloud": {},
  "kernelspec": {
   "display_name": "Python 3",
   "language": "python",
   "name": "python3"
  },
  "language_info": {
   "codemirror_mode": {
    "name": "ipython",
    "version": 3
   },
   "file_extension": ".py",
   "mimetype": "text/x-python",
   "name": "python",
   "nbconvert_exporter": "python",
   "pygments_lexer": "ipython3",
   "version": "3.6.3"
  }
 },
 "nbformat": 4,
 "nbformat_minor": 2
}
